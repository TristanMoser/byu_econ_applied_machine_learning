{
 "cells": [
  {
   "cell_type": "markdown",
   "metadata": {},
   "source": [
    "# Classification with Python"
   ]
  },
  {
   "cell_type": "markdown",
   "metadata": {},
   "source": [
    "This assignment looks to answer the question of \"Who will survive the Titanic?\"   \n",
    "   \n",
    "While the Titanic sunk many years ago, I am going to navigate this competition as if the passengers still had the chance to decide whether to board or not. Assuming, of course, that they would still want to consider it even knowing it will likely sink. So, I am taking it upon myself to help the passengers of the Titanic decide whehter or not it is worth boarding the ship knowing their probability of survival.\n",
    "\n",
    "Data and competition information can be found here:\n",
    "https://www.kaggle.com/c/titanic   \n",
    "   \n",
    "First, the necessary packages and data are read in."
   ]
  },
  {
   "cell_type": "code",
   "execution_count": 1,
   "metadata": {},
   "outputs": [],
   "source": [
    "import pandas as pd\n",
    "import numpy as np\n",
    "import matplotlib.pyplot as plt\n",
    "import seaborn as sns\n",
    "%matplotlib inline\n",
    "\n",
    "from sklearn.preprocessing import StandardScaler\n",
    "from sklearn.model_selection import train_test_split, GridSearchCV\n",
    "from sklearn import linear_model\n",
    "from sklearn.neighbors import KNeighborsClassifier\n",
    "from sklearn.ensemble import RandomForestClassifier, GradientBoostingClassifier\n",
    "\n",
    "from sklearn.metrics import f1_score, classification_report, accuracy_score, mean_squared_error, roc_curve, auc"
   ]
  },
  {
   "cell_type": "code",
   "execution_count": 2,
   "metadata": {},
   "outputs": [],
   "source": [
    "initial_train = pd.read_csv(\"/Users/tristanmoser/Files/Coding/Machine_Learning/HW3/train.csv\")\n",
    "initial_test = pd.read_csv(\"/Users/tristanmoser/Files/Coding/Machine_Learning/HW3/test.csv\")"
   ]
  },
  {
   "cell_type": "markdown",
   "metadata": {},
   "source": [
    "## Data Evaluation   \n",
    "   \n",
    "To get an idea of what data is available, I examine the training data. I will look at both continuous and categorical variables and evaluate them separately. I look at the distribution of the variables, missing values, and correlation with with whether the person survived or not."
   ]
  },
  {
   "cell_type": "code",
   "execution_count": 3,
   "metadata": {},
   "outputs": [
    {
     "name": "stdout",
     "output_type": "stream",
     "text": [
      "<class 'pandas.core.frame.DataFrame'>\n",
      "RangeIndex: 891 entries, 0 to 890\n",
      "Data columns (total 12 columns):\n",
      "PassengerId    891 non-null int64\n",
      "Survived       891 non-null int64\n",
      "Pclass         891 non-null int64\n",
      "Name           891 non-null object\n",
      "Sex            891 non-null object\n",
      "Age            714 non-null float64\n",
      "SibSp          891 non-null int64\n",
      "Parch          891 non-null int64\n",
      "Ticket         891 non-null object\n",
      "Fare           891 non-null float64\n",
      "Cabin          204 non-null object\n",
      "Embarked       889 non-null object\n",
      "dtypes: float64(2), int64(5), object(5)\n",
      "memory usage: 83.6+ KB\n"
     ]
    }
   ],
   "source": [
    "initial_train.info()"
   ]
  },
  {
   "cell_type": "code",
   "execution_count": 4,
   "metadata": {},
   "outputs": [],
   "source": [
    "#Separate continuous and categorical variables for examination\n",
    "train_non_cat = initial_train.select_dtypes(exclude = ['object'])\n",
    "train_cat = initial_train.select_dtypes(include = ['object'])"
   ]
  },
  {
   "cell_type": "markdown",
   "metadata": {},
   "source": [
    "### Categorical Data"
   ]
  },
  {
   "cell_type": "code",
   "execution_count": 5,
   "metadata": {},
   "outputs": [
    {
     "data": {
      "text/html": [
       "<div>\n",
       "<style>\n",
       "    .dataframe thead tr:only-child th {\n",
       "        text-align: right;\n",
       "    }\n",
       "\n",
       "    .dataframe thead th {\n",
       "        text-align: left;\n",
       "    }\n",
       "\n",
       "    .dataframe tbody tr th {\n",
       "        vertical-align: top;\n",
       "    }\n",
       "</style>\n",
       "<table border=\"1\" class=\"dataframe\">\n",
       "  <thead>\n",
       "    <tr style=\"text-align: right;\">\n",
       "      <th></th>\n",
       "      <th>Name</th>\n",
       "      <th>Sex</th>\n",
       "      <th>Ticket</th>\n",
       "      <th>Cabin</th>\n",
       "      <th>Embarked</th>\n",
       "    </tr>\n",
       "  </thead>\n",
       "  <tbody>\n",
       "    <tr>\n",
       "      <th>count</th>\n",
       "      <td>891</td>\n",
       "      <td>891</td>\n",
       "      <td>891</td>\n",
       "      <td>204</td>\n",
       "      <td>889</td>\n",
       "    </tr>\n",
       "    <tr>\n",
       "      <th>unique</th>\n",
       "      <td>891</td>\n",
       "      <td>2</td>\n",
       "      <td>681</td>\n",
       "      <td>147</td>\n",
       "      <td>3</td>\n",
       "    </tr>\n",
       "    <tr>\n",
       "      <th>top</th>\n",
       "      <td>Meek, Mrs. Thomas (Annie Louise Rowley)</td>\n",
       "      <td>male</td>\n",
       "      <td>CA. 2343</td>\n",
       "      <td>G6</td>\n",
       "      <td>S</td>\n",
       "    </tr>\n",
       "    <tr>\n",
       "      <th>freq</th>\n",
       "      <td>1</td>\n",
       "      <td>577</td>\n",
       "      <td>7</td>\n",
       "      <td>4</td>\n",
       "      <td>644</td>\n",
       "    </tr>\n",
       "  </tbody>\n",
       "</table>\n",
       "</div>"
      ],
      "text/plain": [
       "                                           Name   Sex    Ticket Cabin Embarked\n",
       "count                                       891   891       891   204      889\n",
       "unique                                      891     2       681   147        3\n",
       "top     Meek, Mrs. Thomas (Annie Louise Rowley)  male  CA. 2343    G6        S\n",
       "freq                                          1   577         7     4      644"
      ]
     },
     "execution_count": 5,
     "metadata": {},
     "output_type": "execute_result"
    }
   ],
   "source": [
    "#Overall descripion of variables\n",
    "train_cat.describe()"
   ]
  },
  {
   "cell_type": "code",
   "execution_count": 6,
   "metadata": {},
   "outputs": [
    {
     "data": {
      "text/html": [
       "<div>\n",
       "<style>\n",
       "    .dataframe thead tr:only-child th {\n",
       "        text-align: right;\n",
       "    }\n",
       "\n",
       "    .dataframe thead th {\n",
       "        text-align: left;\n",
       "    }\n",
       "\n",
       "    .dataframe tbody tr th {\n",
       "        vertical-align: top;\n",
       "    }\n",
       "</style>\n",
       "<table border=\"1\" class=\"dataframe\">\n",
       "  <thead>\n",
       "    <tr style=\"text-align: right;\">\n",
       "      <th></th>\n",
       "      <th>Name</th>\n",
       "      <th>Ticket</th>\n",
       "      <th>Cabin</th>\n",
       "    </tr>\n",
       "  </thead>\n",
       "  <tbody>\n",
       "    <tr>\n",
       "      <th>0</th>\n",
       "      <td>Braund, Mr. Owen Harris</td>\n",
       "      <td>A/5 21171</td>\n",
       "      <td>NaN</td>\n",
       "    </tr>\n",
       "    <tr>\n",
       "      <th>1</th>\n",
       "      <td>Cumings, Mrs. John Bradley (Florence Briggs Th...</td>\n",
       "      <td>PC 17599</td>\n",
       "      <td>C85</td>\n",
       "    </tr>\n",
       "    <tr>\n",
       "      <th>2</th>\n",
       "      <td>Heikkinen, Miss. Laina</td>\n",
       "      <td>STON/O2. 3101282</td>\n",
       "      <td>NaN</td>\n",
       "    </tr>\n",
       "    <tr>\n",
       "      <th>3</th>\n",
       "      <td>Futrelle, Mrs. Jacques Heath (Lily May Peel)</td>\n",
       "      <td>113803</td>\n",
       "      <td>C123</td>\n",
       "    </tr>\n",
       "    <tr>\n",
       "      <th>4</th>\n",
       "      <td>Allen, Mr. William Henry</td>\n",
       "      <td>373450</td>\n",
       "      <td>NaN</td>\n",
       "    </tr>\n",
       "  </tbody>\n",
       "</table>\n",
       "</div>"
      ],
      "text/plain": [
       "                                                Name            Ticket Cabin\n",
       "0                            Braund, Mr. Owen Harris         A/5 21171   NaN\n",
       "1  Cumings, Mrs. John Bradley (Florence Briggs Th...          PC 17599   C85\n",
       "2                             Heikkinen, Miss. Laina  STON/O2. 3101282   NaN\n",
       "3       Futrelle, Mrs. Jacques Heath (Lily May Peel)            113803  C123\n",
       "4                           Allen, Mr. William Henry            373450   NaN"
      ]
     },
     "execution_count": 6,
     "metadata": {},
     "output_type": "execute_result"
    }
   ],
   "source": [
    "#Look at differences in Names, Tickets and Cabin\n",
    "train_cat[['Name','Ticket','Cabin']].head()"
   ]
  },
  {
   "cell_type": "markdown",
   "metadata": {},
   "source": [
    "From this initial evaluation of the categorical data, there are a few apparent problems that must be dealt with:\n",
    " - Name: Each name is unique, but each person appears to have a title\n",
    " - Ticket: Not all tickets share the same structure\n",
    " - Cabin: There are many missing observations\n",
    " \n",
    "First, I will deal with the \"Cabin\" variable. There appears to be a sytematic problem with the variable. Because there are so many missing values in that variable, there is cause to drop it, because it will likely be hard to identify which Cabin each person was in. Before I officially drop the variable, I will examine the relationship between cabin floor and survival.\n",
    "      "
   ]
  },
  {
   "cell_type": "code",
   "execution_count": 7,
   "metadata": {
    "collapsed": true
   },
   "outputs": [],
   "source": [
    "def room_floor(x):\n",
    "    \"\"\"This function will isolate the cabin floor from the cabin room so that I can estimate survival by floor\"\"\"\n",
    "    for room in x['Cabin']:\n",
    "        x['Cabin'] = x['Cabin'].str.extract('([A-Za-z]+)', expand=True)"
   ]
  },
  {
   "cell_type": "code",
   "execution_count": 8,
   "metadata": {
    "collapsed": true
   },
   "outputs": [],
   "source": [
    "room_floor(initial_train)\n",
    "room_floor(initial_test)"
   ]
  },
  {
   "cell_type": "code",
   "execution_count": 9,
   "metadata": {},
   "outputs": [
    {
     "data": {
      "text/html": [
       "<div>\n",
       "<style>\n",
       "    .dataframe thead tr:only-child th {\n",
       "        text-align: right;\n",
       "    }\n",
       "\n",
       "    .dataframe thead th {\n",
       "        text-align: left;\n",
       "    }\n",
       "\n",
       "    .dataframe tbody tr th {\n",
       "        vertical-align: top;\n",
       "    }\n",
       "</style>\n",
       "<table border=\"1\" class=\"dataframe\">\n",
       "  <thead>\n",
       "    <tr style=\"text-align: right;\">\n",
       "      <th></th>\n",
       "      <th>Cabin</th>\n",
       "      <th>Survived</th>\n",
       "    </tr>\n",
       "  </thead>\n",
       "  <tbody>\n",
       "    <tr>\n",
       "      <th>0</th>\n",
       "      <td>A</td>\n",
       "      <td>0.466667</td>\n",
       "    </tr>\n",
       "    <tr>\n",
       "      <th>1</th>\n",
       "      <td>B</td>\n",
       "      <td>0.744681</td>\n",
       "    </tr>\n",
       "    <tr>\n",
       "      <th>2</th>\n",
       "      <td>C</td>\n",
       "      <td>0.593220</td>\n",
       "    </tr>\n",
       "    <tr>\n",
       "      <th>3</th>\n",
       "      <td>D</td>\n",
       "      <td>0.757576</td>\n",
       "    </tr>\n",
       "    <tr>\n",
       "      <th>4</th>\n",
       "      <td>E</td>\n",
       "      <td>0.750000</td>\n",
       "    </tr>\n",
       "    <tr>\n",
       "      <th>5</th>\n",
       "      <td>F</td>\n",
       "      <td>0.615385</td>\n",
       "    </tr>\n",
       "    <tr>\n",
       "      <th>6</th>\n",
       "      <td>G</td>\n",
       "      <td>0.500000</td>\n",
       "    </tr>\n",
       "    <tr>\n",
       "      <th>7</th>\n",
       "      <td>T</td>\n",
       "      <td>0.000000</td>\n",
       "    </tr>\n",
       "  </tbody>\n",
       "</table>\n",
       "</div>"
      ],
      "text/plain": [
       "  Cabin  Survived\n",
       "0     A  0.466667\n",
       "1     B  0.744681\n",
       "2     C  0.593220\n",
       "3     D  0.757576\n",
       "4     E  0.750000\n",
       "5     F  0.615385\n",
       "6     G  0.500000\n",
       "7     T  0.000000"
      ]
     },
     "execution_count": 9,
     "metadata": {},
     "output_type": "execute_result"
    }
   ],
   "source": [
    "#Check the correlation of survival by Cabin floor\n",
    "initial_train[['Cabin','Survived']].groupby(['Cabin'], as_index=False).mean()"
   ]
  },
  {
   "cell_type": "code",
   "execution_count": 10,
   "metadata": {},
   "outputs": [
    {
     "data": {
      "text/plain": [
       "<matplotlib.text.Text at 0x11d203b00>"
      ]
     },
     "execution_count": 10,
     "metadata": {},
     "output_type": "execute_result"
    },
    {
     "data": {
      "image/png": "[encoded data removed]",
      "text/plain": [
       "<matplotlib.figure.Figure at 0x11d424cc0>"
      ]
     },
     "metadata": {},
     "output_type": "display_data"
    }
   ],
   "source": [
    "f, ax = plt.subplots(figsize = (14,8))\n",
    "sns.barplot(x=\"Cabin\", y=\"Fare\", data=initial_train)\n",
    "plt.title(\"Figure 1: Cabin Analysis\", fontsize = 18)\n",
    "plt.ylabel(\"Fare Rate\", fontsize = 14)\n",
    "plt.xlabel(\"Cabin\", fontsize = 14)"
   ]
  },
  {
   "cell_type": "markdown",
   "metadata": {},
   "source": [
    "While the cabin may help indicate the survival of a passenger, there is not enough other evidence for me to efficiently fill the 600 missing values. Thus, I will drop the \"Cabin\" variable."
   ]
  },
  {
   "cell_type": "code",
   "execution_count": 11,
   "metadata": {
    "collapsed": true
   },
   "outputs": [],
   "source": [
    "initial_train = initial_train.drop('Cabin',axis=1)\n",
    "initial_test = initial_test.drop('Cabin',axis=1)"
   ]
  },
  {
   "cell_type": "markdown",
   "metadata": {},
   "source": [
    "Now, I will look at the \"Ticket\" variable and what can be done to enhance its prediction properties. "
   ]
  },
  {
   "cell_type": "code",
   "execution_count": 12,
   "metadata": {},
   "outputs": [
    {
     "data": {
      "text/plain": [
       "0           A/5 21171\n",
       "1            PC 17599\n",
       "2    STON/O2. 3101282\n",
       "3              113803\n",
       "4              373450\n",
       "Name: Ticket, dtype: object"
      ]
     },
     "execution_count": 12,
     "metadata": {},
     "output_type": "execute_result"
    }
   ],
   "source": [
    "initial_train['Ticket'].head(5)"
   ]
  },
  {
   "cell_type": "markdown",
   "metadata": {},
   "source": [
    "After looking at some of the tickets, it looks like some tickets come with letters at the beginning while others do not. I will create a function that strips the ticket into just the first letter and test the correlation of survival."
   ]
  },
  {
   "cell_type": "code",
   "execution_count": 13,
   "metadata": {
    "collapsed": true
   },
   "outputs": [],
   "source": [
    "def Ticket_Ident(ticket):\n",
    "        \"\"\"This function will strip the ticket variable of all numbers and return the first letter\"\"\"\n",
    "        #get rid of \"/\" and \".\"\n",
    "        ticket = ticket.replace('.','')\n",
    "        ticket = ticket.replace('/','')\n",
    "        #make ticket into list by using the .split() command\n",
    "        ticket = ticket.split()\n",
    "        #remove white space\n",
    "        ticket = map(lambda t : t.strip() , ticket)\n",
    "        #remove numbers and only take letters\n",
    "        ticket = ''.join(filter(lambda t : not t.isdigit(), ticket))\n",
    "        if len(ticket) > 0:\n",
    "            return ticket[0]\n",
    "        else: \n",
    "            return 'No_Letter'\n",
    "    \n",
    "\n",
    "initial_train['Ticket'] = initial_train['Ticket'].map(Ticket_Ident)\n",
    "initial_test['Ticket'] = initial_test['Ticket'].map(Ticket_Ident)"
   ]
  },
  {
   "cell_type": "code",
   "execution_count": 14,
   "metadata": {},
   "outputs": [
    {
     "data": {
      "text/html": [
       "<div>\n",
       "<style>\n",
       "    .dataframe thead tr:only-child th {\n",
       "        text-align: right;\n",
       "    }\n",
       "\n",
       "    .dataframe thead th {\n",
       "        text-align: left;\n",
       "    }\n",
       "\n",
       "    .dataframe tbody tr th {\n",
       "        vertical-align: top;\n",
       "    }\n",
       "</style>\n",
       "<table border=\"1\" class=\"dataframe\">\n",
       "  <thead>\n",
       "    <tr style=\"text-align: right;\">\n",
       "      <th></th>\n",
       "      <th>Ticket</th>\n",
       "      <th>Survived</th>\n",
       "    </tr>\n",
       "  </thead>\n",
       "  <tbody>\n",
       "    <tr>\n",
       "      <th>0</th>\n",
       "      <td>A</td>\n",
       "      <td>0.068966</td>\n",
       "    </tr>\n",
       "    <tr>\n",
       "      <th>1</th>\n",
       "      <td>C</td>\n",
       "      <td>0.340426</td>\n",
       "    </tr>\n",
       "    <tr>\n",
       "      <th>2</th>\n",
       "      <td>F</td>\n",
       "      <td>0.571429</td>\n",
       "    </tr>\n",
       "    <tr>\n",
       "      <th>3</th>\n",
       "      <td>L</td>\n",
       "      <td>0.250000</td>\n",
       "    </tr>\n",
       "    <tr>\n",
       "      <th>4</th>\n",
       "      <td>No_Letter</td>\n",
       "      <td>0.384266</td>\n",
       "    </tr>\n",
       "    <tr>\n",
       "      <th>5</th>\n",
       "      <td>P</td>\n",
       "      <td>0.646154</td>\n",
       "    </tr>\n",
       "    <tr>\n",
       "      <th>6</th>\n",
       "      <td>S</td>\n",
       "      <td>0.323077</td>\n",
       "    </tr>\n",
       "    <tr>\n",
       "      <th>7</th>\n",
       "      <td>W</td>\n",
       "      <td>0.153846</td>\n",
       "    </tr>\n",
       "  </tbody>\n",
       "</table>\n",
       "</div>"
      ],
      "text/plain": [
       "      Ticket  Survived\n",
       "0          A  0.068966\n",
       "1          C  0.340426\n",
       "2          F  0.571429\n",
       "3          L  0.250000\n",
       "4  No_Letter  0.384266\n",
       "5          P  0.646154\n",
       "6          S  0.323077\n",
       "7          W  0.153846"
      ]
     },
     "execution_count": 14,
     "metadata": {},
     "output_type": "execute_result"
    }
   ],
   "source": [
    "initial_train[['Ticket', 'Survived']].groupby(['Ticket'], as_index=False).mean()"
   ]
  },
  {
   "cell_type": "markdown",
   "metadata": {},
   "source": [
    "Finally, I look at the issues with the \"Name\" variable. Because each name contains a broader title, I extract the title from each name and examine the correlation between the title and survival."
   ]
  },
  {
   "cell_type": "code",
   "execution_count": 15,
   "metadata": {
    "collapsed": true
   },
   "outputs": [],
   "source": [
    "def titles(x):\n",
    "    \"\"\"This function will extract the Title from each name and return it in a new column 'Title'\"\"\"\n",
    "    x['Title'] = x['Name']\n",
    "    for name in x['Title']:\n",
    "        x['Title'] = x['Name'].str.extract('([A-Za-z]+)\\.', expand=True)"
   ]
  },
  {
   "cell_type": "code",
   "execution_count": 16,
   "metadata": {
    "collapsed": true
   },
   "outputs": [],
   "source": [
    "#Apply function\n",
    "titles(initial_train)\n",
    "titles(initial_test)"
   ]
  },
  {
   "cell_type": "code",
   "execution_count": 17,
   "metadata": {},
   "outputs": [
    {
     "data": {
      "text/html": [
       "<div>\n",
       "<style>\n",
       "    .dataframe thead tr:only-child th {\n",
       "        text-align: right;\n",
       "    }\n",
       "\n",
       "    .dataframe thead th {\n",
       "        text-align: left;\n",
       "    }\n",
       "\n",
       "    .dataframe tbody tr th {\n",
       "        vertical-align: top;\n",
       "    }\n",
       "</style>\n",
       "<table border=\"1\" class=\"dataframe\">\n",
       "  <thead>\n",
       "    <tr style=\"text-align: right;\">\n",
       "      <th></th>\n",
       "      <th>Title</th>\n",
       "      <th>Name</th>\n",
       "    </tr>\n",
       "  </thead>\n",
       "  <tbody>\n",
       "    <tr>\n",
       "      <th>0</th>\n",
       "      <td>Mr</td>\n",
       "      <td>Braund, Mr. Owen Harris</td>\n",
       "    </tr>\n",
       "    <tr>\n",
       "      <th>1</th>\n",
       "      <td>Mrs</td>\n",
       "      <td>Cumings, Mrs. John Bradley (Florence Briggs Th...</td>\n",
       "    </tr>\n",
       "    <tr>\n",
       "      <th>2</th>\n",
       "      <td>Miss</td>\n",
       "      <td>Heikkinen, Miss. Laina</td>\n",
       "    </tr>\n",
       "    <tr>\n",
       "      <th>3</th>\n",
       "      <td>Mrs</td>\n",
       "      <td>Futrelle, Mrs. Jacques Heath (Lily May Peel)</td>\n",
       "    </tr>\n",
       "    <tr>\n",
       "      <th>4</th>\n",
       "      <td>Mr</td>\n",
       "      <td>Allen, Mr. William Henry</td>\n",
       "    </tr>\n",
       "  </tbody>\n",
       "</table>\n",
       "</div>"
      ],
      "text/plain": [
       "  Title                                               Name\n",
       "0    Mr                            Braund, Mr. Owen Harris\n",
       "1   Mrs  Cumings, Mrs. John Bradley (Florence Briggs Th...\n",
       "2  Miss                             Heikkinen, Miss. Laina\n",
       "3   Mrs       Futrelle, Mrs. Jacques Heath (Lily May Peel)\n",
       "4    Mr                           Allen, Mr. William Henry"
      ]
     },
     "execution_count": 17,
     "metadata": {},
     "output_type": "execute_result"
    }
   ],
   "source": [
    "#Verify that the function correctly pulled out the Title\n",
    "initial_train[['Title','Name']].head()"
   ]
  },
  {
   "cell_type": "code",
   "execution_count": 18,
   "metadata": {},
   "outputs": [
    {
     "data": {
      "text/plain": [
       "<matplotlib.text.Text at 0x120cd8c50>"
      ]
     },
     "execution_count": 18,
     "metadata": {},
     "output_type": "execute_result"
    },
    {
     "data": {
      "image/png": "[encoded data removed]",
      "text/plain": [
       "<matplotlib.figure.Figure at 0x120cd6518>"
      ]
     },
     "metadata": {},
     "output_type": "display_data"
    }
   ],
   "source": [
    "#Examine relationship between Title and Survival\n",
    "f, ax = plt.subplots(figsize = (14,8))\n",
    "sns.barplot(x=\"Title\", y=\"Survived\", data=initial_train)\n",
    "plt.title(\"Figure 2: Title Analysis\", fontsize = 18)\n",
    "plt.ylabel(\"Survival Rate\", fontsize = 14)\n",
    "plt.xlabel(\"Title\", fontsize = 14)"
   ]
  },
  {
   "cell_type": "markdown",
   "metadata": {},
   "source": [
    "It is apparent that we now have some predictive power using these titles instead of the specific names. I will now drop the \"Name\" variable as it is of no further use."
   ]
  },
  {
   "cell_type": "code",
   "execution_count": 19,
   "metadata": {
    "collapsed": true
   },
   "outputs": [],
   "source": [
    "initial_train = initial_train.drop('Name',axis=1)\n",
    "initial_test = initial_test.drop('Name',axis=1)"
   ]
  },
  {
   "cell_type": "markdown",
   "metadata": {},
   "source": [
    "It will also be informative to see how survival relates to gender"
   ]
  },
  {
   "cell_type": "code",
   "execution_count": 20,
   "metadata": {},
   "outputs": [
    {
     "data": {
      "text/html": [
       "<div>\n",
       "<style>\n",
       "    .dataframe thead tr:only-child th {\n",
       "        text-align: right;\n",
       "    }\n",
       "\n",
       "    .dataframe thead th {\n",
       "        text-align: left;\n",
       "    }\n",
       "\n",
       "    .dataframe tbody tr th {\n",
       "        vertical-align: top;\n",
       "    }\n",
       "</style>\n",
       "<table border=\"1\" class=\"dataframe\">\n",
       "  <thead>\n",
       "    <tr style=\"text-align: right;\">\n",
       "      <th></th>\n",
       "      <th>Sex</th>\n",
       "      <th>Survived</th>\n",
       "    </tr>\n",
       "  </thead>\n",
       "  <tbody>\n",
       "    <tr>\n",
       "      <th>0</th>\n",
       "      <td>female</td>\n",
       "      <td>0.742038</td>\n",
       "    </tr>\n",
       "    <tr>\n",
       "      <th>1</th>\n",
       "      <td>male</td>\n",
       "      <td>0.188908</td>\n",
       "    </tr>\n",
       "  </tbody>\n",
       "</table>\n",
       "</div>"
      ],
      "text/plain": [
       "      Sex  Survived\n",
       "0  female  0.742038\n",
       "1    male  0.188908"
      ]
     },
     "execution_count": 20,
     "metadata": {},
     "output_type": "execute_result"
    }
   ],
   "source": [
    "initial_train[['Sex', 'Survived']].groupby(['Sex'], as_index=False).mean()"
   ]
  },
  {
   "cell_type": "markdown",
   "metadata": {},
   "source": [
    "### Continuous Variables"
   ]
  },
  {
   "cell_type": "code",
   "execution_count": 21,
   "metadata": {},
   "outputs": [
    {
     "data": {
      "text/html": [
       "<div>\n",
       "<style>\n",
       "    .dataframe thead tr:only-child th {\n",
       "        text-align: right;\n",
       "    }\n",
       "\n",
       "    .dataframe thead th {\n",
       "        text-align: left;\n",
       "    }\n",
       "\n",
       "    .dataframe tbody tr th {\n",
       "        vertical-align: top;\n",
       "    }\n",
       "</style>\n",
       "<table border=\"1\" class=\"dataframe\">\n",
       "  <thead>\n",
       "    <tr style=\"text-align: right;\">\n",
       "      <th></th>\n",
       "      <th>PassengerId</th>\n",
       "      <th>Survived</th>\n",
       "      <th>Pclass</th>\n",
       "      <th>Age</th>\n",
       "      <th>SibSp</th>\n",
       "      <th>Parch</th>\n",
       "      <th>Fare</th>\n",
       "    </tr>\n",
       "  </thead>\n",
       "  <tbody>\n",
       "    <tr>\n",
       "      <th>count</th>\n",
       "      <td>891.000000</td>\n",
       "      <td>891.000000</td>\n",
       "      <td>891.000000</td>\n",
       "      <td>714.000000</td>\n",
       "      <td>891.000000</td>\n",
       "      <td>891.000000</td>\n",
       "      <td>891.000000</td>\n",
       "    </tr>\n",
       "    <tr>\n",
       "      <th>mean</th>\n",
       "      <td>446.000000</td>\n",
       "      <td>0.383838</td>\n",
       "      <td>2.308642</td>\n",
       "      <td>29.699118</td>\n",
       "      <td>0.523008</td>\n",
       "      <td>0.381594</td>\n",
       "      <td>32.204208</td>\n",
       "    </tr>\n",
       "    <tr>\n",
       "      <th>std</th>\n",
       "      <td>257.353842</td>\n",
       "      <td>0.486592</td>\n",
       "      <td>0.836071</td>\n",
       "      <td>14.526497</td>\n",
       "      <td>1.102743</td>\n",
       "      <td>0.806057</td>\n",
       "      <td>49.693429</td>\n",
       "    </tr>\n",
       "    <tr>\n",
       "      <th>min</th>\n",
       "      <td>1.000000</td>\n",
       "      <td>0.000000</td>\n",
       "      <td>1.000000</td>\n",
       "      <td>0.420000</td>\n",
       "      <td>0.000000</td>\n",
       "      <td>0.000000</td>\n",
       "      <td>0.000000</td>\n",
       "    </tr>\n",
       "    <tr>\n",
       "      <th>25%</th>\n",
       "      <td>223.500000</td>\n",
       "      <td>0.000000</td>\n",
       "      <td>2.000000</td>\n",
       "      <td>20.125000</td>\n",
       "      <td>0.000000</td>\n",
       "      <td>0.000000</td>\n",
       "      <td>7.910400</td>\n",
       "    </tr>\n",
       "    <tr>\n",
       "      <th>50%</th>\n",
       "      <td>446.000000</td>\n",
       "      <td>0.000000</td>\n",
       "      <td>3.000000</td>\n",
       "      <td>28.000000</td>\n",
       "      <td>0.000000</td>\n",
       "      <td>0.000000</td>\n",
       "      <td>14.454200</td>\n",
       "    </tr>\n",
       "    <tr>\n",
       "      <th>75%</th>\n",
       "      <td>668.500000</td>\n",
       "      <td>1.000000</td>\n",
       "      <td>3.000000</td>\n",
       "      <td>38.000000</td>\n",
       "      <td>1.000000</td>\n",
       "      <td>0.000000</td>\n",
       "      <td>31.000000</td>\n",
       "    </tr>\n",
       "    <tr>\n",
       "      <th>max</th>\n",
       "      <td>891.000000</td>\n",
       "      <td>1.000000</td>\n",
       "      <td>3.000000</td>\n",
       "      <td>80.000000</td>\n",
       "      <td>8.000000</td>\n",
       "      <td>6.000000</td>\n",
       "      <td>512.329200</td>\n",
       "    </tr>\n",
       "  </tbody>\n",
       "</table>\n",
       "</div>"
      ],
      "text/plain": [
       "       PassengerId    Survived      Pclass         Age       SibSp  \\\n",
       "count   891.000000  891.000000  891.000000  714.000000  891.000000   \n",
       "mean    446.000000    0.383838    2.308642   29.699118    0.523008   \n",
       "std     257.353842    0.486592    0.836071   14.526497    1.102743   \n",
       "min       1.000000    0.000000    1.000000    0.420000    0.000000   \n",
       "25%     223.500000    0.000000    2.000000   20.125000    0.000000   \n",
       "50%     446.000000    0.000000    3.000000   28.000000    0.000000   \n",
       "75%     668.500000    1.000000    3.000000   38.000000    1.000000   \n",
       "max     891.000000    1.000000    3.000000   80.000000    8.000000   \n",
       "\n",
       "            Parch        Fare  \n",
       "count  891.000000  891.000000  \n",
       "mean     0.381594   32.204208  \n",
       "std      0.806057   49.693429  \n",
       "min      0.000000    0.000000  \n",
       "25%      0.000000    7.910400  \n",
       "50%      0.000000   14.454200  \n",
       "75%      0.000000   31.000000  \n",
       "max      6.000000  512.329200  "
      ]
     },
     "execution_count": 21,
     "metadata": {},
     "output_type": "execute_result"
    }
   ],
   "source": [
    "train_non_cat.describe()"
   ]
  },
  {
   "cell_type": "markdown",
   "metadata": {},
   "source": [
    "\n",
    "From the previous description of the coninuous variables, it is clear that there is a missing value problem with \"Age\". There are almost 200 observations missing this variable, but it seems like that could be a random problem. In this case, I will impute the missing age values using the median age corresponding the person's gender."
   ]
  },
  {
   "cell_type": "code",
   "execution_count": 22,
   "metadata": {},
   "outputs": [],
   "source": [
    "#Impute missing ages by median age based on gender from train data\n",
    "genders = ['male','female']\n",
    "for gender in genders:\n",
    "    age_to_impute = initial_train.groupby('Sex')['Age'].median()[genders.index(gender)]\n",
    "    initial_train.loc[(initial_train['Age'].isnull()) & (initial_train['Sex'] == gender), 'Age'] = age_to_impute\n",
    "    \n",
    "    initial_test.loc[(initial_test['Age'].isnull()) & (initial_test['Sex'] == gender), 'Age'] = age_to_impute"
   ]
  },
  {
   "cell_type": "markdown",
   "metadata": {},
   "source": [
    "#### Visualization   \n",
    "   \n",
    "I will now visualize the continuous variables to examine their distributions and see where features can be created or improved. The variables are split according to their measurement sizes so that the graphs can be accurately assessed.   \n",
    "   \n",
    "##### Survived, Pclass, SibSp, and Parch Variables"
   ]
  },
  {
   "cell_type": "code",
   "execution_count": 23,
   "metadata": {},
   "outputs": [
    {
     "data": {
      "text/plain": [
       "<matplotlib.text.Text at 0x120d54dd8>"
      ]
     },
     "execution_count": 23,
     "metadata": {},
     "output_type": "execute_result"
    },
    {
     "data": {
      "image/png": "[encoded data removed]",
      "text/plain": [
       "<matplotlib.figure.Figure at 0x120de9208>"
      ]
     },
     "metadata": {},
     "output_type": "display_data"
    }
   ],
   "source": [
    "fig, ax = plt.subplots(figsize=(16,6))\n",
    "sns.violinplot(data=train_non_cat[['Survived','Pclass','SibSp','Parch',]])\n",
    "plt.title('Figure 3: Distribution of Continuous Variables',fontsize =18)\n",
    "plt.ylabel('Value',fontsize=14)\n",
    "plt.xlabel('Variable',fontsize=14)"
   ]
  },
  {
   "cell_type": "markdown",
   "metadata": {},
   "source": [
    "Upon examination, the \"SibSp\" and \"Parch\" variables appear to be have high concentrations of people with few siblings and/or children. Because of this, I look at the relationship between them and survival."
   ]
  },
  {
   "cell_type": "code",
   "execution_count": 24,
   "metadata": {},
   "outputs": [
    {
     "data": {
      "text/html": [
       "<div>\n",
       "<style>\n",
       "    .dataframe thead tr:only-child th {\n",
       "        text-align: right;\n",
       "    }\n",
       "\n",
       "    .dataframe thead th {\n",
       "        text-align: left;\n",
       "    }\n",
       "\n",
       "    .dataframe tbody tr th {\n",
       "        vertical-align: top;\n",
       "    }\n",
       "</style>\n",
       "<table border=\"1\" class=\"dataframe\">\n",
       "  <thead>\n",
       "    <tr style=\"text-align: right;\">\n",
       "      <th></th>\n",
       "      <th>SibSp</th>\n",
       "      <th>Parch</th>\n",
       "      <th>Survived</th>\n",
       "    </tr>\n",
       "  </thead>\n",
       "  <tbody>\n",
       "    <tr>\n",
       "      <th>0</th>\n",
       "      <td>0</td>\n",
       "      <td>0.185855</td>\n",
       "      <td>0.345395</td>\n",
       "    </tr>\n",
       "    <tr>\n",
       "      <th>1</th>\n",
       "      <td>1</td>\n",
       "      <td>0.655502</td>\n",
       "      <td>0.535885</td>\n",
       "    </tr>\n",
       "    <tr>\n",
       "      <th>2</th>\n",
       "      <td>2</td>\n",
       "      <td>0.642857</td>\n",
       "      <td>0.464286</td>\n",
       "    </tr>\n",
       "    <tr>\n",
       "      <th>3</th>\n",
       "      <td>3</td>\n",
       "      <td>1.312500</td>\n",
       "      <td>0.250000</td>\n",
       "    </tr>\n",
       "    <tr>\n",
       "      <th>4</th>\n",
       "      <td>4</td>\n",
       "      <td>1.500000</td>\n",
       "      <td>0.166667</td>\n",
       "    </tr>\n",
       "    <tr>\n",
       "      <th>5</th>\n",
       "      <td>5</td>\n",
       "      <td>2.000000</td>\n",
       "      <td>0.000000</td>\n",
       "    </tr>\n",
       "    <tr>\n",
       "      <th>6</th>\n",
       "      <td>8</td>\n",
       "      <td>2.000000</td>\n",
       "      <td>0.000000</td>\n",
       "    </tr>\n",
       "  </tbody>\n",
       "</table>\n",
       "</div>"
      ],
      "text/plain": [
       "   SibSp     Parch  Survived\n",
       "0      0  0.185855  0.345395\n",
       "1      1  0.655502  0.535885\n",
       "2      2  0.642857  0.464286\n",
       "3      3  1.312500  0.250000\n",
       "4      4  1.500000  0.166667\n",
       "5      5  2.000000  0.000000\n",
       "6      8  2.000000  0.000000"
      ]
     },
     "execution_count": 24,
     "metadata": {},
     "output_type": "execute_result"
    }
   ],
   "source": [
    "initial_train[['SibSp','Parch', 'Survived']].groupby(['SibSp'], as_index=False).mean()"
   ]
  },
  {
   "cell_type": "markdown",
   "metadata": {},
   "source": [
    "The observed relationship suggests that having some form of a family member with you on the ship increases the likelihood of survival. To implement this observation, I create a new variable \"Fam\" that will add \"SibSp\" and \"Parch\". Then, I create another variable \"Family\" that is 0 if the person has no family with them and 1 if they do."
   ]
  },
  {
   "cell_type": "code",
   "execution_count": 25,
   "metadata": {},
   "outputs": [],
   "source": [
    "def family(x):\n",
    "    \"\"\"This function will create an indicator variable for whether the person has family on board or not\"\"\"\n",
    "    for aa in x:\n",
    "        x['Fam'] = x['SibSp'] + x['Parch']\n",
    "    x['Family'] = 0\n",
    "    x.loc[x['Fam'] >= 1, 'Family'] = 1\n",
    "    "
   ]
  },
  {
   "cell_type": "code",
   "execution_count": 26,
   "metadata": {},
   "outputs": [],
   "source": [
    "family(initial_train)\n",
    "#drop other family variables\n",
    "initial_train = initial_train.drop(['SibSp','Parch','Fam'],axis=1)\n",
    "#drop other family variables\n",
    "family(initial_test)\n",
    "initial_test = initial_test.drop(['SibSp','Parch','Fam'],axis=1)"
   ]
  },
  {
   "cell_type": "code",
   "execution_count": 27,
   "metadata": {},
   "outputs": [
    {
     "data": {
      "text/html": [
       "<div>\n",
       "<style>\n",
       "    .dataframe thead tr:only-child th {\n",
       "        text-align: right;\n",
       "    }\n",
       "\n",
       "    .dataframe thead th {\n",
       "        text-align: left;\n",
       "    }\n",
       "\n",
       "    .dataframe tbody tr th {\n",
       "        vertical-align: top;\n",
       "    }\n",
       "</style>\n",
       "<table border=\"1\" class=\"dataframe\">\n",
       "  <thead>\n",
       "    <tr style=\"text-align: right;\">\n",
       "      <th></th>\n",
       "      <th>Family</th>\n",
       "      <th>Survived</th>\n",
       "    </tr>\n",
       "  </thead>\n",
       "  <tbody>\n",
       "    <tr>\n",
       "      <th>0</th>\n",
       "      <td>0</td>\n",
       "      <td>0.303538</td>\n",
       "    </tr>\n",
       "    <tr>\n",
       "      <th>1</th>\n",
       "      <td>1</td>\n",
       "      <td>0.505650</td>\n",
       "    </tr>\n",
       "  </tbody>\n",
       "</table>\n",
       "</div>"
      ],
      "text/plain": [
       "   Family  Survived\n",
       "0       0  0.303538\n",
       "1       1  0.505650"
      ]
     },
     "execution_count": 27,
     "metadata": {},
     "output_type": "execute_result"
    }
   ],
   "source": [
    "initial_train[['Family', 'Survived']].groupby(['Family'], as_index=False).mean()"
   ]
  },
  {
   "cell_type": "markdown",
   "metadata": {},
   "source": [
    "##### Age and Fare Variables"
   ]
  },
  {
   "cell_type": "code",
   "execution_count": 28,
   "metadata": {},
   "outputs": [
    {
     "data": {
      "text/plain": [
       "<matplotlib.text.Text at 0x121072320>"
      ]
     },
     "execution_count": 28,
     "metadata": {},
     "output_type": "execute_result"
    },
    {
     "data": {
      "image/png": "[encoded data removed]",
      "text/plain": [
       "<matplotlib.figure.Figure at 0x121060b00>"
      ]
     },
     "metadata": {},
     "output_type": "display_data"
    }
   ],
   "source": [
    "fig, ax = plt.subplots(figsize=(16,6))\n",
    "sns.violinplot(data=train_non_cat[['Age','Fare']])\n",
    "plt.title('Figure 4: Distribution of Continuous Variables',fontsize=18)\n",
    "plt.ylabel('Value',fontsize=14)\n",
    "plt.xlabel('Variable',fontsize=14)"
   ]
  },
  {
   "cell_type": "markdown",
   "metadata": {},
   "source": [
    "The \"Fare\" variable is highly concentrated at a relatively low price of about $30. There are, however, a decent amount of outliers with higher prices. To better group the Fares, I create a new variable \"Fare_cat\" that groups the person's Fare relative to other Fares."
   ]
  },
  {
   "cell_type": "code",
   "execution_count": 29,
   "metadata": {
    "collapsed": true
   },
   "outputs": [],
   "source": [
    "def fares(x):\n",
    "    \"\"\"This function will categorize the Fare into respective bins\"\"\"\n",
    "    x['Fare_cat'] = \"Low\"\n",
    "    x.loc[(x['Fare'] >=float(75.0)), 'Fare_cat'] = \"High\"\n",
    "    x.loc[(x['Fare'] <float(75.0)) & (x['Fare'] >=float(40.0)), 'Fare_cat'] = \"Mid\"\n",
    "    x.loc[(x['Fare'] <float(40.0)), 'Fare_cat'] = \"Low\"\n",
    "    "
   ]
  },
  {
   "cell_type": "code",
   "execution_count": 30,
   "metadata": {},
   "outputs": [],
   "source": [
    "fares(initial_train)\n",
    "#Drop old fare variable\n",
    "initial_train = initial_train.drop('Fare',axis=1)\n",
    "fares(initial_test)\n",
    "#Drop old fare variable\n",
    "initial_test = initial_test.drop('Fare',axis=1)"
   ]
  },
  {
   "cell_type": "code",
   "execution_count": 31,
   "metadata": {},
   "outputs": [
    {
     "data": {
      "text/html": [
       "<div>\n",
       "<style>\n",
       "    .dataframe thead tr:only-child th {\n",
       "        text-align: right;\n",
       "    }\n",
       "\n",
       "    .dataframe thead th {\n",
       "        text-align: left;\n",
       "    }\n",
       "\n",
       "    .dataframe tbody tr th {\n",
       "        vertical-align: top;\n",
       "    }\n",
       "</style>\n",
       "<table border=\"1\" class=\"dataframe\">\n",
       "  <thead>\n",
       "    <tr style=\"text-align: right;\">\n",
       "      <th></th>\n",
       "      <th>Fare_cat</th>\n",
       "      <th>Survived</th>\n",
       "    </tr>\n",
       "  </thead>\n",
       "  <tbody>\n",
       "    <tr>\n",
       "      <th>0</th>\n",
       "      <td>High</td>\n",
       "      <td>0.762887</td>\n",
       "    </tr>\n",
       "    <tr>\n",
       "      <th>1</th>\n",
       "      <td>Low</td>\n",
       "      <td>0.320280</td>\n",
       "    </tr>\n",
       "    <tr>\n",
       "      <th>2</th>\n",
       "      <td>Mid</td>\n",
       "      <td>0.493671</td>\n",
       "    </tr>\n",
       "  </tbody>\n",
       "</table>\n",
       "</div>"
      ],
      "text/plain": [
       "  Fare_cat  Survived\n",
       "0     High  0.762887\n",
       "1      Low  0.320280\n",
       "2      Mid  0.493671"
      ]
     },
     "execution_count": 31,
     "metadata": {},
     "output_type": "execute_result"
    }
   ],
   "source": [
    "#Analyze relationship of Fare category and survival\n",
    "initial_train[['Fare_cat', 'Survived']].groupby(['Fare_cat'], as_index=False).mean()"
   ]
  },
  {
   "cell_type": "markdown",
   "metadata": {},
   "source": [
    "## Prepare Data for Modeling   \n",
    "   \n",
    "Now that the features have been processed, the data must now be prepared for modeling. To do this, I create dummy variables, verify that the train and test sets contain the same variables, and normalize them using the StandardScaler."
   ]
  },
  {
   "cell_type": "code",
   "execution_count": 32,
   "metadata": {
    "collapsed": true
   },
   "outputs": [],
   "source": [
    "#Get Dummy Variables\n",
    "train = pd.get_dummies(initial_train)\n",
    "test = pd.get_dummies(initial_test)"
   ]
  },
  {
   "cell_type": "markdown",
   "metadata": {},
   "source": [
    "##### Verify Variables"
   ]
  },
  {
   "cell_type": "code",
   "execution_count": 33,
   "metadata": {
    "collapsed": true
   },
   "outputs": [],
   "source": [
    "#Gather list of all variables in train\n",
    "train_columns = []\n",
    "for abc in train:\n",
    "    train_columns.append(abc)\n",
    "\n",
    "#Gather list of all variables in test\n",
    "test_columns = []\n",
    "for xyz in test:\n",
    "    test_columns.append(xyz)"
   ]
  },
  {
   "cell_type": "code",
   "execution_count": 34,
   "metadata": {},
   "outputs": [],
   "source": [
    "#Generate list of variables in Train but not in Test\n",
    "uncommon = [item for item in train_columns if item not in test_columns and item != 'Survived']"
   ]
  },
  {
   "cell_type": "code",
   "execution_count": 35,
   "metadata": {},
   "outputs": [
    {
     "data": {
      "text/plain": [
       "['Title_Capt',\n",
       " 'Title_Countess',\n",
       " 'Title_Don',\n",
       " 'Title_Jonkheer',\n",
       " 'Title_Lady',\n",
       " 'Title_Major',\n",
       " 'Title_Mlle',\n",
       " 'Title_Mme',\n",
       " 'Title_Sir']"
      ]
     },
     "execution_count": 35,
     "metadata": {},
     "output_type": "execute_result"
    }
   ],
   "source": [
    "uncommon"
   ]
  },
  {
   "cell_type": "code",
   "execution_count": 36,
   "metadata": {
    "collapsed": true
   },
   "outputs": [],
   "source": [
    "#Generate empty variables in Test from Train set\n",
    "for title in uncommon:\n",
    "    test[title] =  0"
   ]
  },
  {
   "cell_type": "code",
   "execution_count": 37,
   "metadata": {
    "collapsed": true
   },
   "outputs": [],
   "source": [
    "#Create list of variables in Test but not in Train\n",
    "uncommon = [item for item in test_columns if item not in train_columns]"
   ]
  },
  {
   "cell_type": "code",
   "execution_count": 38,
   "metadata": {},
   "outputs": [
    {
     "data": {
      "text/plain": [
       "['Title_Dona']"
      ]
     },
     "execution_count": 38,
     "metadata": {},
     "output_type": "execute_result"
    }
   ],
   "source": [
    "uncommon"
   ]
  },
  {
   "cell_type": "code",
   "execution_count": 39,
   "metadata": {},
   "outputs": [],
   "source": [
    "train['Title_Dona'] = 0"
   ]
  },
  {
   "cell_type": "code",
   "execution_count": 40,
   "metadata": {},
   "outputs": [],
   "source": [
    "#test.isnull().sum()"
   ]
  },
  {
   "cell_type": "code",
   "execution_count": 41,
   "metadata": {},
   "outputs": [],
   "source": [
    "#test = test.fillna(train['Fare_cat'].mean())"
   ]
  },
  {
   "cell_type": "markdown",
   "metadata": {},
   "source": [
    "##### Split and Standardize"
   ]
  },
  {
   "cell_type": "code",
   "execution_count": 42,
   "metadata": {},
   "outputs": [],
   "source": [
    "#Isolate target and predictors\n",
    "target = train['Survived']\n",
    "predictors = train.drop('Survived',axis=1)\n",
    "#Split train set for cross validation\n",
    "x_train, x_cv, y_train, y_cv = train_test_split(predictors, target, test_size=0.3, random_state=42)"
   ]
  },
  {
   "cell_type": "code",
   "execution_count": 43,
   "metadata": {},
   "outputs": [],
   "source": [
    "scaler = StandardScaler()\n",
    "#fit scaler with train data\n",
    "scaler.fit(x_train)\n",
    "#transform using the train data fit\n",
    "scaled_train = scaler.transform(x_train)\n",
    "scaled_cv = scaler.transform(x_cv)"
   ]
  },
  {
   "cell_type": "code",
   "execution_count": 44,
   "metadata": {},
   "outputs": [],
   "source": [
    "#transfrom test from train data fit\n",
    "scaled_test = scaler.transform(test)"
   ]
  },
  {
   "cell_type": "markdown",
   "metadata": {},
   "source": [
    "## Modeling   \n",
    "   \n",
    "With the data now prepared, I begin modeling to predict survival. The following models will be examined:\n",
    " - Logistic Regression\n",
    " - K-nearest Neighbors\n",
    " - Random Forest\n",
    " - Gradient Boosing   \n",
    "    \n",
    "The following evaluation function will be used to asses the usefulness of the model."
   ]
  },
  {
   "cell_type": "code",
   "execution_count": 45,
   "metadata": {
    "collapsed": true
   },
   "outputs": [],
   "source": [
    "def evaluate(x):\n",
    "    x.fit(scaled_train,y_train)\n",
    "    train_pred = x.predict(scaled_train)\n",
    "    cv_pred = x.predict(scaled_cv)\n",
    "    print(\"Classification Summary:\")\n",
    "    print(classification_report(y_cv, cv_pred))\n",
    "    print(\"Accuracy CV:\")\n",
    "    print(accuracy_score(y_cv,cv_pred))\n",
    "    print(\"Accuracy Train:\")\n",
    "    print(accuracy_score(y_train,train_pred))"
   ]
  },
  {
   "cell_type": "markdown",
   "metadata": {},
   "source": [
    "### Logistic Regression   \n",
    "   \n",
    "The logistic regression model differs from a standard linear regression approach in that it can be used to predict categorical outcomes and help determine which predictors are the most relevant."
   ]
  },
  {
   "cell_type": "code",
   "execution_count": 46,
   "metadata": {},
   "outputs": [
    {
     "name": "stdout",
     "output_type": "stream",
     "text": [
      "Classification Summary:\n",
      "             precision    recall  f1-score   support\n",
      "\n",
      "          0       0.83      0.87      0.85       157\n",
      "          1       0.80      0.75      0.77       111\n",
      "\n",
      "avg / total       0.82      0.82      0.82       268\n",
      "\n",
      "Accuracy CV:\n",
      "0.817164179104\n",
      "Accuracy Train:\n",
      "0.825040128411\n"
     ]
    }
   ],
   "source": [
    "logreg = linear_model.LogisticRegression()\n",
    "evaluate(logreg)"
   ]
  },
  {
   "cell_type": "markdown",
   "metadata": {},
   "source": [
    "The Logistic Regression seems to be predicting relatively well on both the train and cv sets. This suggests that there is not overfitting present in the model, but there is no guarantee that the model is not biased. Because of this, I will fit other models to test their accuracy.   \n",
    "   \n",
    "For now, it can be beneficial to evaluate the most significant coefficients from the logistic regression."
   ]
  },
  {
   "cell_type": "code",
   "execution_count": 47,
   "metadata": {},
   "outputs": [],
   "source": [
    "coef = pd.Series(logreg.coef_[0], index = x_train.columns)\n",
    "significant_coef = pd.concat([coef.sort_values().head(5), coef.sort_values().tail(5)])"
   ]
  },
  {
   "cell_type": "code",
   "execution_count": 48,
   "metadata": {},
   "outputs": [
    {
     "data": {
      "text/plain": [
       "<matplotlib.text.Text at 0x121474358>"
      ]
     },
     "execution_count": 48,
     "metadata": {},
     "output_type": "execute_result"
    },
    {
     "data": {
      "image/png": "[encoded data removed]",
      "text/plain": [
       "<matplotlib.figure.Figure at 0x1213e89b0>"
      ]
     },
     "metadata": {},
     "output_type": "display_data"
    }
   ],
   "source": [
    "fig, ax = plt.subplots(figsize=(12,8))\n",
    "significant_coef.plot(kind = \"barh\")\n",
    "plt.title(\"Significant Coefficients\", fontsize = 18)\n",
    "plt.xlabel(\"Coefficient Value\")\n",
    "plt.ylabel(\"Important Factors\")"
   ]
  },
  {
   "cell_type": "markdown",
   "metadata": {},
   "source": [
    "### K-nearest Neighbors   \n",
    "   \n",
    "K-nearest Neighbors is a classification method that works by classifying the observation based on the k-nearest observations around it. This can be a powerful tool if the relative distances can be properly assessed."
   ]
  },
  {
   "cell_type": "code",
   "execution_count": 49,
   "metadata": {},
   "outputs": [
    {
     "name": "stdout",
     "output_type": "stream",
     "text": [
      "Classification Summary:\n",
      "             precision    recall  f1-score   support\n",
      "\n",
      "          0       0.78      0.86      0.82       157\n",
      "          1       0.77      0.67      0.71       111\n",
      "\n",
      "avg / total       0.78      0.78      0.78       268\n",
      "\n",
      "Accuracy CV:\n",
      "0.779850746269\n",
      "Accuracy Train:\n",
      "0.852327447833\n"
     ]
    }
   ],
   "source": [
    "knn = KNeighborsClassifier()\n",
    "parameters = {\"n_neighbors\": [2,3,4,5,6,7,8],\"weights\": ['uniform','distance'],\"p\": [2,3,4]}\n",
    "gridsearch = GridSearchCV(knn, param_grid = parameters, scoring='accuracy')\n",
    "evaluate(gridsearch)"
   ]
  },
  {
   "cell_type": "markdown",
   "metadata": {},
   "source": [
    "The results from this model appear to be showing signs of overfitting as the model predicts significantly better on the train set. I am worried that because there are many categorical variables, the notion of distance may be distorted."
   ]
  },
  {
   "cell_type": "markdown",
   "metadata": {},
   "source": [
    "### Random Forest   \n",
    "   \n",
    "The Random Forest model relies on multiple different decision trees added up to \"vote\" to determine to which class the observation will be categorized."
   ]
  },
  {
   "cell_type": "code",
   "execution_count": 50,
   "metadata": {},
   "outputs": [
    {
     "name": "stdout",
     "output_type": "stream",
     "text": [
      "Classification Summary:\n",
      "             precision    recall  f1-score   support\n",
      "\n",
      "          0       0.80      0.87      0.83       157\n",
      "          1       0.79      0.69      0.74       111\n",
      "\n",
      "avg / total       0.79      0.79      0.79       268\n",
      "\n",
      "Accuracy CV:\n",
      "0.794776119403\n",
      "Accuracy Train:\n",
      "0.961476725522\n"
     ]
    }
   ],
   "source": [
    "forest = RandomForestClassifier()\n",
    "params = {\"n_estimators\": [200,300,400, 450, 500, 600],\"max_depth\": [8,10,12,14,15,16]}\n",
    "gridsearch2 = GridSearchCV(forest, param_grid = params, scoring='accuracy')\n",
    "evaluate(gridsearch2)"
   ]
  },
  {
   "cell_type": "markdown",
   "metadata": {},
   "source": [
    "The results from this model show severe signs of over-fitting. I suspect that it may be caused by the complexity of my features and/or the model. As my features have already been adjusted, I will look at minimizing the max_depth parameter in the Random Forest model."
   ]
  },
  {
   "cell_type": "code",
   "execution_count": 51,
   "metadata": {},
   "outputs": [
    {
     "name": "stdout",
     "output_type": "stream",
     "text": [
      "Classification Summary:\n",
      "             precision    recall  f1-score   support\n",
      "\n",
      "          0       0.82      0.86      0.84       157\n",
      "          1       0.79      0.73      0.76       111\n",
      "\n",
      "avg / total       0.81      0.81      0.80       268\n",
      "\n",
      "Accuracy CV:\n",
      "0.805970149254\n",
      "Accuracy Train:\n",
      "0.818619582665\n"
     ]
    }
   ],
   "source": [
    "forest2 = RandomForestClassifier(n_estimators = 6000, max_depth = 4)\n",
    "evaluate(forest2)"
   ]
  },
  {
   "cell_type": "markdown",
   "metadata": {},
   "source": [
    "These results now appear to be more appropriate with less sign of overfitting."
   ]
  },
  {
   "cell_type": "markdown",
   "metadata": {},
   "source": [
    "### Gradient Boosting   \n",
    "   \n",
    "Boosting is an ensemble model that dynamically learns from itself to improve the model. Here, Gradient Boosting learns from a gradient descent based algorithm. Hence the name. "
   ]
  },
  {
   "cell_type": "code",
   "execution_count": 52,
   "metadata": {},
   "outputs": [
    {
     "name": "stdout",
     "output_type": "stream",
     "text": [
      "Classification Summary:\n",
      "             precision    recall  f1-score   support\n",
      "\n",
      "          0       0.78      0.94      0.85       157\n",
      "          1       0.88      0.62      0.73       111\n",
      "\n",
      "avg / total       0.82      0.81      0.80       268\n",
      "\n",
      "Accuracy CV:\n",
      "0.809701492537\n",
      "Accuracy Train:\n",
      "0.83467094703\n"
     ]
    }
   ],
   "source": [
    "boost = GradientBoostingClassifier()\n",
    "gridsearch3 = GridSearchCV(boost, {\"learning_rate\": [.1, .01, .005, .05], \"n_estimators\": [50,100,150,200,250,500], \n",
    "                                'max_depth': [2,3, 4, 5]}, scoring='accuracy')\n",
    "evaluate(gridsearch3)"
   ]
  },
  {
   "cell_type": "markdown",
   "metadata": {},
   "source": [
    "Although I used a gridsearch cross-validation to find the optimal parameters for gradient boosting, the results seem off of what I would expect given the previous models. I will adjust some parameters to see if I can find a better hyperparameter combination."
   ]
  },
  {
   "cell_type": "code",
   "execution_count": 53,
   "metadata": {},
   "outputs": [
    {
     "name": "stdout",
     "output_type": "stream",
     "text": [
      "Classification Summary:\n",
      "             precision    recall  f1-score   support\n",
      "\n",
      "          0       0.78      0.94      0.86       157\n",
      "          1       0.89      0.63      0.74       111\n",
      "\n",
      "avg / total       0.83      0.81      0.81       268\n",
      "\n",
      "Accuracy CV:\n",
      "0.813432835821\n",
      "Accuracy Train:\n",
      "0.836276083467\n"
     ]
    }
   ],
   "source": [
    "boost2 = GradientBoostingClassifier(learning_rate=.01,n_estimators=150,max_depth=3)\n",
    "evaluate(boost2)"
   ]
  },
  {
   "cell_type": "markdown",
   "metadata": {},
   "source": [
    "## Test Prediction and Kaggle Submission   \n",
    "   \n",
    "After fitting the various models, I will submit my predictions from the Gradient Boost to Kaggle for a scoring. Hopefully we can save some lives!"
   ]
  },
  {
   "cell_type": "code",
   "execution_count": 56,
   "metadata": {},
   "outputs": [],
   "source": [
    "#Get ID column for submission\n",
    "IDs = test['PassengerId']\n",
    "#Final test prediction\n",
    "test_pred = boost2.predict(scaled_test)"
   ]
  },
  {
   "cell_type": "code",
   "execution_count": 57,
   "metadata": {},
   "outputs": [],
   "source": [
    "Output = pd.DataFrame({\"PassengerId\": IDs, \"Survived\": test_pred})\n",
    "Output.to_csv(\"/Users/tristanmoser/files/coding/machine_learning/HW3/Kaggle_sub.csv\",index=False)"
   ]
  },
  {
   "cell_type": "markdown",
   "metadata": {},
   "source": [
    "## Conclusion"
   ]
  },
  {
   "cell_type": "markdown",
   "metadata": {},
   "source": [
    "My Kaggle submission scored a 0.77033 accuracy score.   \n",
    "   \n",
    "While this score is in the pack with my fellow Kagglers, I am not extremely confident in my model's ability to predict the survival rate of an individual. I know that I would not risk getting on a ship knowing I had a 77% chance of survival. Luckily, I wont have to deal with that or worry about someone deciding whether or not to board the Titanic as that ship has sailed...   \n",
    "   \n",
    "I am impressed, however, at how this model could bring together supposedly small details of these passengers and generate a decent prediction of survival. "
   ]
  }
 ],
 "metadata": {
  "kernelspec": {
   "display_name": "Python 3",
   "language": "python",
   "name": "python3"
  },
  "language_info": {
   "codemirror_mode": {
    "name": "ipython",
    "version": 3
   },
   "file_extension": ".py",
   "mimetype": "text/x-python",
   "name": "python",
   "nbconvert_exporter": "python",
   "pygments_lexer": "ipython3",
   "version": "3.6.1"
  }
 },
 "nbformat": 4,
 "nbformat_minor": 2
}
