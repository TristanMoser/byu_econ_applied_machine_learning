{
 "cells": [
  {
   "cell_type": "markdown",
   "metadata": {},
   "source": [
    "## Data Cleaning, Describing, and Visualization\n",
    "\n",
    "### Step 1 - Get your environment setup\n",
    "\n",
    "1. Install Git on your computer and fork the class repository on [Github](https://github.com/tfolkman/byu_econ_applied_machine_learning).\n",
    "2. Install [Anaconda](https://conda.io/docs/install/quick.html) and get it working.\n",
    "\n",
    "### Step 2 - Explore Datasets\n",
    "\n",
    "The goals of this project are:\n",
    "\n",
    "1. Read in data from multiple sources\n",
    "2. Gain practice cleaning, describing, and visualizing data\n",
    "\n",
    "To this end, you need to find from three different sources. For example: CSV, JSON, and API, SQL, or web scraping. For each of these data sets, you must perform the following:\n",
    "\n",
    "1. Data cleaning. Some options your might consider: handle missing data, handle outliers, scale the data, convert some data to categorical.\n",
    "2. Describe data. Provide tables, statistics, and summaries of your data.\n",
    "3. Visualize data. Provide visualizations of your data.\n",
    "\n",
    "These are the typical first steps of any data science project and are often the most time consuming. My hope is that in going through this process 3 different times, that you will gain a sense for it.\n",
    "\n",
    "Also, as you are doing this, please tell us a story. Explain in your notebook why are doing what you are doing and to what end. Telling a story in your analysis is a crucial skill for data scientists. There are almost an infinite amount of ways to analyze a data set; help us understand why you choose your particular path and why we should care.\n",
    "\n",
    "Also - this homework is very open-ended and we provided you with basically no starting point. I realize this increases the difficulty and complexity, but I think it is worth it. It is much closer to what you might experience in industry and allows you to find data that might excite you!"
   ]
  },
  {
   "cell_type": "markdown",
   "metadata": {},
   "source": [
    "# Data from an API source:"
   ]
  },
  {
   "cell_type": "markdown",
   "metadata": {},
   "source": [
    "### Obtain Data"
   ]
  },
  {
   "cell_type": "markdown",
   "metadata": {},
   "source": [
    "The following three datasets contain the median household listing price for all homes in the states of Utah, Colorado, and Idaho. This data can be used to show the cost of living difference between the three states. It can also be combined with corporate data to determine if they have higher sales in a state with a higher cost of living or if there is some other relationship."
   ]
  },
  {
   "cell_type": "code",
   "execution_count": 1,
   "metadata": {
    "collapsed": true
   },
   "outputs": [],
   "source": [
    "import quandl\n",
    "Utahhd= quandl.get('ZILLOW/S44_MLPAH', authtoken='FD4pvTxsHdGVYBWh1UXZ')\n",
    "Idahohd= quandl.get('ZILLOW/S15_MLPAH', authtoken='FD4pvTxsHdGVYBWh1UXZ')\n",
    "Coloradohd= quandl.get('ZILLOW/S7_MLPAH', authtoken='FD4pvTxsHdGVYBWh1UXZ')"
   ]
  },
  {
   "cell_type": "code",
   "execution_count": 2,
   "metadata": {},
   "outputs": [
    {
     "data": {
      "text/html": [
       "<div>\n",
       "<style>\n",
       "    .dataframe thead tr:only-child th {\n",
       "        text-align: right;\n",
       "    }\n",
       "\n",
       "    .dataframe thead th {\n",
       "        text-align: left;\n",
       "    }\n",
       "\n",
       "    .dataframe tbody tr th {\n",
       "        vertical-align: top;\n",
       "    }\n",
       "</style>\n",
       "<table border=\"1\" class=\"dataframe\">\n",
       "  <thead>\n",
       "    <tr style=\"text-align: right;\">\n",
       "      <th></th>\n",
       "      <th>Value</th>\n",
       "    </tr>\n",
       "  </thead>\n",
       "  <tbody>\n",
       "    <tr>\n",
       "      <th>count</th>\n",
       "      <td>54.000000</td>\n",
       "    </tr>\n",
       "    <tr>\n",
       "      <th>mean</th>\n",
       "      <td>278497.537037</td>\n",
       "    </tr>\n",
       "    <tr>\n",
       "      <th>std</th>\n",
       "      <td>32834.511692</td>\n",
       "    </tr>\n",
       "    <tr>\n",
       "      <th>min</th>\n",
       "      <td>230000.000000</td>\n",
       "    </tr>\n",
       "    <tr>\n",
       "      <th>25%</th>\n",
       "      <td>249900.000000</td>\n",
       "    </tr>\n",
       "    <tr>\n",
       "      <th>50%</th>\n",
       "      <td>284500.000000</td>\n",
       "    </tr>\n",
       "    <tr>\n",
       "      <th>75%</th>\n",
       "      <td>299800.000000</td>\n",
       "    </tr>\n",
       "    <tr>\n",
       "      <th>max</th>\n",
       "      <td>334900.000000</td>\n",
       "    </tr>\n",
       "  </tbody>\n",
       "</table>\n",
       "</div>"
      ],
      "text/plain": [
       "               Value\n",
       "count      54.000000\n",
       "mean   278497.537037\n",
       "std     32834.511692\n",
       "min    230000.000000\n",
       "25%    249900.000000\n",
       "50%    284500.000000\n",
       "75%    299800.000000\n",
       "max    334900.000000"
      ]
     },
     "execution_count": 2,
     "metadata": {},
     "output_type": "execute_result"
    }
   ],
   "source": [
    "Utahhd.describe()"
   ]
  },
  {
   "cell_type": "code",
   "execution_count": 3,
   "metadata": {},
   "outputs": [
    {
     "data": {
      "text/html": [
       "<div>\n",
       "<style>\n",
       "    .dataframe thead tr:only-child th {\n",
       "        text-align: right;\n",
       "    }\n",
       "\n",
       "    .dataframe thead th {\n",
       "        text-align: left;\n",
       "    }\n",
       "\n",
       "    .dataframe tbody tr th {\n",
       "        vertical-align: top;\n",
       "    }\n",
       "</style>\n",
       "<table border=\"1\" class=\"dataframe\">\n",
       "  <thead>\n",
       "    <tr style=\"text-align: right;\">\n",
       "      <th></th>\n",
       "      <th>Value</th>\n",
       "    </tr>\n",
       "  </thead>\n",
       "  <tbody>\n",
       "    <tr>\n",
       "      <th>count</th>\n",
       "      <td>95.000000</td>\n",
       "    </tr>\n",
       "    <tr>\n",
       "      <th>mean</th>\n",
       "      <td>191988.468421</td>\n",
       "    </tr>\n",
       "    <tr>\n",
       "      <th>std</th>\n",
       "      <td>42838.288047</td>\n",
       "    </tr>\n",
       "    <tr>\n",
       "      <th>min</th>\n",
       "      <td>132700.000000</td>\n",
       "    </tr>\n",
       "    <tr>\n",
       "      <th>25%</th>\n",
       "      <td>149900.000000</td>\n",
       "    </tr>\n",
       "    <tr>\n",
       "      <th>50%</th>\n",
       "      <td>190000.000000</td>\n",
       "    </tr>\n",
       "    <tr>\n",
       "      <th>75%</th>\n",
       "      <td>225647.000000</td>\n",
       "    </tr>\n",
       "    <tr>\n",
       "      <th>max</th>\n",
       "      <td>274900.000000</td>\n",
       "    </tr>\n",
       "  </tbody>\n",
       "</table>\n",
       "</div>"
      ],
      "text/plain": [
       "               Value\n",
       "count      95.000000\n",
       "mean   191988.468421\n",
       "std     42838.288047\n",
       "min    132700.000000\n",
       "25%    149900.000000\n",
       "50%    190000.000000\n",
       "75%    225647.000000\n",
       "max    274900.000000"
      ]
     },
     "execution_count": 3,
     "metadata": {},
     "output_type": "execute_result"
    }
   ],
   "source": [
    "Idahohd.describe()"
   ]
  },
  {
   "cell_type": "code",
   "execution_count": 4,
   "metadata": {},
   "outputs": [
    {
     "data": {
      "text/html": [
       "<div>\n",
       "<style>\n",
       "    .dataframe thead tr:only-child th {\n",
       "        text-align: right;\n",
       "    }\n",
       "\n",
       "    .dataframe thead th {\n",
       "        text-align: left;\n",
       "    }\n",
       "\n",
       "    .dataframe tbody tr th {\n",
       "        vertical-align: top;\n",
       "    }\n",
       "</style>\n",
       "<table border=\"1\" class=\"dataframe\">\n",
       "  <thead>\n",
       "    <tr style=\"text-align: right;\">\n",
       "      <th></th>\n",
       "      <th>Value</th>\n",
       "    </tr>\n",
       "  </thead>\n",
       "  <tbody>\n",
       "    <tr>\n",
       "      <th>count</th>\n",
       "      <td>95.000000</td>\n",
       "    </tr>\n",
       "    <tr>\n",
       "      <th>mean</th>\n",
       "      <td>297140.278947</td>\n",
       "    </tr>\n",
       "    <tr>\n",
       "      <th>std</th>\n",
       "      <td>65523.201871</td>\n",
       "    </tr>\n",
       "    <tr>\n",
       "      <th>min</th>\n",
       "      <td>199900.000000</td>\n",
       "    </tr>\n",
       "    <tr>\n",
       "      <th>25%</th>\n",
       "      <td>237225.750000</td>\n",
       "    </tr>\n",
       "    <tr>\n",
       "      <th>50%</th>\n",
       "      <td>289900.000000</td>\n",
       "    </tr>\n",
       "    <tr>\n",
       "      <th>75%</th>\n",
       "      <td>355000.000000</td>\n",
       "    </tr>\n",
       "    <tr>\n",
       "      <th>max</th>\n",
       "      <td>408800.000000</td>\n",
       "    </tr>\n",
       "  </tbody>\n",
       "</table>\n",
       "</div>"
      ],
      "text/plain": [
       "               Value\n",
       "count      95.000000\n",
       "mean   297140.278947\n",
       "std     65523.201871\n",
       "min    199900.000000\n",
       "25%    237225.750000\n",
       "50%    289900.000000\n",
       "75%    355000.000000\n",
       "max    408800.000000"
      ]
     },
     "execution_count": 4,
     "metadata": {},
     "output_type": "execute_result"
    }
   ],
   "source": [
    "Coloradohd.describe()"
   ]
  },
  {
   "cell_type": "markdown",
   "metadata": {},
   "source": [
    "### Clean Data"
   ]
  },
  {
   "cell_type": "markdown",
   "metadata": {},
   "source": [
    "Note that the data from each state does not contain the same amount of observations with both Idaho and Colorado beginning before Utah's data. To correct for this, I will merge the dataframes and only keep the datapoints that all three states contain."
   ]
  },
  {
   "cell_type": "code",
   "execution_count": 5,
   "metadata": {},
   "outputs": [
    {
     "data": {
      "text/html": [
       "<div>\n",
       "<style>\n",
       "    .dataframe thead tr:only-child th {\n",
       "        text-align: right;\n",
       "    }\n",
       "\n",
       "    .dataframe thead th {\n",
       "        text-align: left;\n",
       "    }\n",
       "\n",
       "    .dataframe tbody tr th {\n",
       "        vertical-align: top;\n",
       "    }\n",
       "</style>\n",
       "<table border=\"1\" class=\"dataframe\">\n",
       "  <thead>\n",
       "    <tr style=\"text-align: right;\">\n",
       "      <th></th>\n",
       "      <th>Utah</th>\n",
       "      <th>Idaho</th>\n",
       "      <th>Colorado</th>\n",
       "    </tr>\n",
       "    <tr>\n",
       "      <th>Date</th>\n",
       "      <th></th>\n",
       "      <th></th>\n",
       "      <th></th>\n",
       "    </tr>\n",
       "  </thead>\n",
       "  <tbody>\n",
       "    <tr>\n",
       "      <th>2013-06-30</th>\n",
       "      <td>230000.0</td>\n",
       "      <td>190000.0</td>\n",
       "      <td>279000.0</td>\n",
       "    </tr>\n",
       "    <tr>\n",
       "      <th>2013-07-31</th>\n",
       "      <td>234900.0</td>\n",
       "      <td>194900.0</td>\n",
       "      <td>282000.0</td>\n",
       "    </tr>\n",
       "    <tr>\n",
       "      <th>2013-08-31</th>\n",
       "      <td>234900.0</td>\n",
       "      <td>194500.0</td>\n",
       "      <td>284992.5</td>\n",
       "    </tr>\n",
       "    <tr>\n",
       "      <th>2013-09-30</th>\n",
       "      <td>235000.0</td>\n",
       "      <td>194990.0</td>\n",
       "      <td>289900.0</td>\n",
       "    </tr>\n",
       "    <tr>\n",
       "      <th>2013-10-31</th>\n",
       "      <td>234900.0</td>\n",
       "      <td>190000.0</td>\n",
       "      <td>285000.0</td>\n",
       "    </tr>\n",
       "    <tr>\n",
       "      <th>2013-11-30</th>\n",
       "      <td>234900.0</td>\n",
       "      <td>184990.0</td>\n",
       "      <td>285000.0</td>\n",
       "    </tr>\n",
       "  </tbody>\n",
       "</table>\n",
       "</div>"
      ],
      "text/plain": [
       "                Utah     Idaho  Colorado\n",
       "Date                                    \n",
       "2013-06-30  230000.0  190000.0  279000.0\n",
       "2013-07-31  234900.0  194900.0  282000.0\n",
       "2013-08-31  234900.0  194500.0  284992.5\n",
       "2013-09-30  235000.0  194990.0  289900.0\n",
       "2013-10-31  234900.0  190000.0  285000.0\n",
       "2013-11-30  234900.0  184990.0  285000.0"
      ]
     },
     "execution_count": 5,
     "metadata": {},
     "output_type": "execute_result"
    }
   ],
   "source": [
    "import pandas as pd\n",
    "ui= Utahhd.merge(Idahohd, right_index=True, left_index=True)\n",
    "uic= ui.merge(Coloradohd, right_index=True, left_index=True)\n",
    "uic.columns = ['Utah','Idaho','Colorado']\n",
    "uic.head(6)"
   ]
  },
  {
   "cell_type": "code",
   "execution_count": 6,
   "metadata": {},
   "outputs": [
    {
     "data": {
      "text/html": [
       "<div>\n",
       "<style>\n",
       "    .dataframe thead tr:only-child th {\n",
       "        text-align: right;\n",
       "    }\n",
       "\n",
       "    .dataframe thead th {\n",
       "        text-align: left;\n",
       "    }\n",
       "\n",
       "    .dataframe tbody tr th {\n",
       "        vertical-align: top;\n",
       "    }\n",
       "</style>\n",
       "<table border=\"1\" class=\"dataframe\">\n",
       "  <thead>\n",
       "    <tr style=\"text-align: right;\">\n",
       "      <th></th>\n",
       "      <th>Utah</th>\n",
       "      <th>Idaho</th>\n",
       "      <th>Colorado</th>\n",
       "    </tr>\n",
       "  </thead>\n",
       "  <tbody>\n",
       "    <tr>\n",
       "      <th>count</th>\n",
       "      <td>54.000000</td>\n",
       "      <td>54.000000</td>\n",
       "      <td>54.000000</td>\n",
       "    </tr>\n",
       "    <tr>\n",
       "      <th>mean</th>\n",
       "      <td>278497.537037</td>\n",
       "      <td>222204.888889</td>\n",
       "      <td>346531.805556</td>\n",
       "    </tr>\n",
       "    <tr>\n",
       "      <th>std</th>\n",
       "      <td>32834.511692</td>\n",
       "      <td>30829.644300</td>\n",
       "      <td>39766.696708</td>\n",
       "    </tr>\n",
       "    <tr>\n",
       "      <th>min</th>\n",
       "      <td>230000.000000</td>\n",
       "      <td>166763.500000</td>\n",
       "      <td>279000.000000</td>\n",
       "    </tr>\n",
       "    <tr>\n",
       "      <th>5%</th>\n",
       "      <td>234900.000000</td>\n",
       "      <td>182243.500000</td>\n",
       "      <td>284997.375000</td>\n",
       "    </tr>\n",
       "    <tr>\n",
       "      <th>15%</th>\n",
       "      <td>235000.000000</td>\n",
       "      <td>190000.000000</td>\n",
       "      <td>294745.000000</td>\n",
       "    </tr>\n",
       "    <tr>\n",
       "      <th>50%</th>\n",
       "      <td>284500.000000</td>\n",
       "      <td>223950.000000</td>\n",
       "      <td>350000.000000</td>\n",
       "    </tr>\n",
       "    <tr>\n",
       "      <th>85%</th>\n",
       "      <td>315250.000000</td>\n",
       "      <td>254684.650000</td>\n",
       "      <td>390450.000000</td>\n",
       "    </tr>\n",
       "    <tr>\n",
       "      <th>95%</th>\n",
       "      <td>329175.000000</td>\n",
       "      <td>271160.000000</td>\n",
       "      <td>404885.500000</td>\n",
       "    </tr>\n",
       "    <tr>\n",
       "      <th>max</th>\n",
       "      <td>334900.000000</td>\n",
       "      <td>274900.000000</td>\n",
       "      <td>408800.000000</td>\n",
       "    </tr>\n",
       "  </tbody>\n",
       "</table>\n",
       "</div>"
      ],
      "text/plain": [
       "                Utah          Idaho       Colorado\n",
       "count      54.000000      54.000000      54.000000\n",
       "mean   278497.537037  222204.888889  346531.805556\n",
       "std     32834.511692   30829.644300   39766.696708\n",
       "min    230000.000000  166763.500000  279000.000000\n",
       "5%     234900.000000  182243.500000  284997.375000\n",
       "15%    235000.000000  190000.000000  294745.000000\n",
       "50%    284500.000000  223950.000000  350000.000000\n",
       "85%    315250.000000  254684.650000  390450.000000\n",
       "95%    329175.000000  271160.000000  404885.500000\n",
       "max    334900.000000  274900.000000  408800.000000"
      ]
     },
     "execution_count": 6,
     "metadata": {},
     "output_type": "execute_result"
    }
   ],
   "source": [
    "#Check that counts are correct across each state\n",
    "uic.describe(percentiles=[.05,.15,.85,.95])"
   ]
  },
  {
   "cell_type": "code",
   "execution_count": 7,
   "metadata": {},
   "outputs": [
    {
     "name": "stdout",
     "output_type": "stream",
     "text": [
      "<class 'pandas.core.frame.DataFrame'>\n",
      "DatetimeIndex: 54 entries, 2013-06-30 to 2017-11-30\n",
      "Data columns (total 3 columns):\n",
      "Utah        54 non-null float64\n",
      "Idaho       54 non-null float64\n",
      "Colorado    54 non-null float64\n",
      "dtypes: float64(3)\n",
      "memory usage: 1.7 KB\n"
     ]
    }
   ],
   "source": [
    "uic.info()"
   ]
  },
  {
   "cell_type": "code",
   "execution_count": 8,
   "metadata": {},
   "outputs": [
    {
     "data": {
      "text/plain": [
       "Index([], dtype='object')"
      ]
     },
     "execution_count": 8,
     "metadata": {},
     "output_type": "execute_result"
    }
   ],
   "source": [
    "#Check for missing values\n",
    "uic.columns[uic.isnull().any()]"
   ]
  },
  {
   "cell_type": "markdown",
   "metadata": {},
   "source": [
    "There are no missing values from June 2013 to November 2017"
   ]
  },
  {
   "cell_type": "code",
   "execution_count": 9,
   "metadata": {},
   "outputs": [
    {
     "data": {
      "image/png": "[encoded data removed]",
      "text/plain": [
       "<matplotlib.figure.Figure at 0x10e578f28>"
      ]
     },
     "metadata": {},
     "output_type": "display_data"
    }
   ],
   "source": [
    "#Look for outliers\n",
    "import matplotlib.pyplot as plt\n",
    "%matplotlib inline\n",
    "uicbox= uic.plot(kind='box')"
   ]
  },
  {
   "cell_type": "code",
   "execution_count": 10,
   "metadata": {},
   "outputs": [
    {
     "name": "stdout",
     "output_type": "stream",
     "text": [
      "Anything beyond 377001.0721136106 is an outlier\n",
      "The maximum value is 334900.0\n",
      "Anything less than 179994.00196046344 is an oulier\n",
      "The minimum value is 230000.0\n"
     ]
    }
   ],
   "source": [
    "#Utah Outliers\n",
    "std_Utah= uic['Utah'].std()\n",
    "print('Anything beyond {} is an outlier'.format((std_Utah*3)+ uic['Utah'].mean()))\n",
    "print('The maximum value is {}'.format(uic['Utah'].max()))\n",
    "print('Anything less than {} is an oulier'.format(uic['Utah'].mean() - (std_Utah*3)))\n",
    "print('The minimum value is {}'.format(uic['Utah'].min()))"
   ]
  },
  {
   "cell_type": "code",
   "execution_count": 11,
   "metadata": {},
   "outputs": [
    {
     "name": "stdout",
     "output_type": "stream",
     "text": [
      "Anything beyond 314693.8217894522 is an outlier\n",
      "The maximum value is 274900.0\n",
      "Anything less than 129715.95598832554 is an oulier\n",
      "The minimum value is 166763.5\n"
     ]
    }
   ],
   "source": [
    "#Idaho Outliers\n",
    "std_Idaho= uic['Idaho'].std()\n",
    "print('Anything beyond {} is an outlier'.format((std_Idaho*3)+ uic['Idaho'].mean()))\n",
    "print('The maximum value is {}'.format(uic['Idaho'].max()))\n",
    "print('Anything less than {} is an oulier'.format(uic['Idaho'].mean() - (std_Idaho*3)))\n",
    "print('The minimum value is {}'.format(uic['Idaho'].min()))"
   ]
  },
  {
   "cell_type": "code",
   "execution_count": 12,
   "metadata": {},
   "outputs": [
    {
     "name": "stdout",
     "output_type": "stream",
     "text": [
      "Anything beyond 465831.8956800589 is an outlier\n",
      "The maximum value is 408800.0\n",
      "Anything less than 227231.7154310522 is an oulier\n",
      "The minimum value is 279000.0\n"
     ]
    }
   ],
   "source": [
    "#Colorado Outliers\n",
    "std_Colorado= uic['Colorado'].std()\n",
    "maxoutColorado= (std_Colorado*3)+ uic['Colorado'].mean()\n",
    "minoutColorado= uic['Colorado'].mean() - (std_Colorado*3)\n",
    "print('Anything beyond {} is an outlier'.format(maxoutColorado))\n",
    "print('The maximum value is {}'.format(uic['Colorado'].max()))\n",
    "print('Anything less than {} is an oulier'.format(minoutColorado))\n",
    "print('The minimum value is {}'.format(uic['Colorado'].min()))"
   ]
  },
  {
   "cell_type": "markdown",
   "metadata": {},
   "source": [
    "There are no outliers in any of the three states"
   ]
  },
  {
   "cell_type": "markdown",
   "metadata": {},
   "source": [
    "### Visualize"
   ]
  },
  {
   "cell_type": "code",
   "execution_count": 13,
   "metadata": {},
   "outputs": [
    {
     "name": "stderr",
     "output_type": "stream",
     "text": [
      "/Applications/Anaconda/anaconda/lib/python3.6/site-packages/seaborn/categorical.py:2342: UserWarning: The violinplot API has been changed. Attempting to adjust your arguments for the new API (which might not work). Please update your code. See the version 0.6 release notes for more info.\n",
      "  warnings.warn(msg, UserWarning)\n"
     ]
    },
    {
     "data": {
      "image/png": "[encoded data removed]",
      "text/plain": [
       "<matplotlib.figure.Figure at 0x1137f8ac8>"
      ]
     },
     "metadata": {},
     "output_type": "display_data"
    }
   ],
   "source": [
    "import seaborn as sns\n",
    "sns.violinplot(uic)\n",
    "sns.despine(left=True, bottom=True)"
   ]
  },
  {
   "cell_type": "markdown",
   "metadata": {},
   "source": [
    "From this the tables and this visualization, it is clear that Colorado housing prices are on average greater than those of Idaho or Utah. This would imply a higher cost of living."
   ]
  },
  {
   "cell_type": "markdown",
   "metadata": {},
   "source": [
    "# Data from CSV:"
   ]
  },
  {
   "cell_type": "markdown",
   "metadata": {},
   "source": [
    "### Obtain Data"
   ]
  },
  {
   "cell_type": "markdown",
   "metadata": {},
   "source": [
    "The following data comes from a dataset that I collected on all of the school districts in Colorado with information on their students and teachers."
   ]
  },
  {
   "cell_type": "code",
   "execution_count": 14,
   "metadata": {},
   "outputs": [],
   "source": [
    "School_data= pd.read_csv(\"/Users/tristanmoser/Files/Tristan/CondensedMilk2.csv\")"
   ]
  },
  {
   "cell_type": "markdown",
   "metadata": {},
   "source": [
    "### Look at and Clean Data"
   ]
  },
  {
   "cell_type": "code",
   "execution_count": 15,
   "metadata": {},
   "outputs": [
    {
     "data": {
      "text/html": [
       "<div>\n",
       "<style>\n",
       "    .dataframe thead tr:only-child th {\n",
       "        text-align: right;\n",
       "    }\n",
       "\n",
       "    .dataframe thead th {\n",
       "        text-align: left;\n",
       "    }\n",
       "\n",
       "    .dataframe tbody tr th {\n",
       "        vertical-align: top;\n",
       "    }\n",
       "</style>\n",
       "<table border=\"1\" class=\"dataframe\">\n",
       "  <thead>\n",
       "    <tr style=\"text-align: right;\">\n",
       "      <th></th>\n",
       "      <th>Year</th>\n",
       "      <th>MHI</th>\n",
       "      <th>MHItS</th>\n",
       "      <th>GR</th>\n",
       "      <th>MTS</th>\n",
       "      <th>MTStS</th>\n",
       "      <th>SToTR</th>\n",
       "      <th>FemT</th>\n",
       "      <th>TotT</th>\n",
       "      <th>FtoTR</th>\n",
       "      <th>WhiT</th>\n",
       "      <th>PctWT</th>\n",
       "      <th>PctMS</th>\n",
       "      <th>NumS</th>\n",
       "    </tr>\n",
       "  </thead>\n",
       "  <tbody>\n",
       "    <tr>\n",
       "      <th>count</th>\n",
       "      <td>534.000000</td>\n",
       "      <td>534.000000</td>\n",
       "      <td>534.000000</td>\n",
       "      <td>534.000000</td>\n",
       "      <td>534.000000</td>\n",
       "      <td>534.000000</td>\n",
       "      <td>534.000000</td>\n",
       "      <td>534.000000</td>\n",
       "      <td>534.000000</td>\n",
       "      <td>534.000000</td>\n",
       "      <td>534.000000</td>\n",
       "      <td>534.000000</td>\n",
       "      <td>534.000000</td>\n",
       "      <td>534.000000</td>\n",
       "    </tr>\n",
       "    <tr>\n",
       "      <th>mean</th>\n",
       "      <td>2014.000000</td>\n",
       "      <td>51103.346442</td>\n",
       "      <td>0.858858</td>\n",
       "      <td>0.822678</td>\n",
       "      <td>40038.071985</td>\n",
       "      <td>0.816966</td>\n",
       "      <td>41.106742</td>\n",
       "      <td>218.814607</td>\n",
       "      <td>288.629213</td>\n",
       "      <td>0.744944</td>\n",
       "      <td>256.011236</td>\n",
       "      <td>0.917210</td>\n",
       "      <td>0.326742</td>\n",
       "      <td>4846.614232</td>\n",
       "    </tr>\n",
       "    <tr>\n",
       "      <th>std</th>\n",
       "      <td>0.817262</td>\n",
       "      <td>14271.270922</td>\n",
       "      <td>0.239973</td>\n",
       "      <td>0.162112</td>\n",
       "      <td>6840.826751</td>\n",
       "      <td>0.139297</td>\n",
       "      <td>165.291235</td>\n",
       "      <td>557.783904</td>\n",
       "      <td>736.222808</td>\n",
       "      <td>0.073305</td>\n",
       "      <td>638.164309</td>\n",
       "      <td>0.113089</td>\n",
       "      <td>0.221190</td>\n",
       "      <td>12709.425752</td>\n",
       "    </tr>\n",
       "    <tr>\n",
       "      <th>min</th>\n",
       "      <td>2013.000000</td>\n",
       "      <td>22304.000000</td>\n",
       "      <td>0.380000</td>\n",
       "      <td>0.000000</td>\n",
       "      <td>18103.610000</td>\n",
       "      <td>0.370000</td>\n",
       "      <td>2.990000</td>\n",
       "      <td>3.000000</td>\n",
       "      <td>3.000000</td>\n",
       "      <td>0.440000</td>\n",
       "      <td>3.000000</td>\n",
       "      <td>0.140000</td>\n",
       "      <td>0.000000</td>\n",
       "      <td>10.000000</td>\n",
       "    </tr>\n",
       "    <tr>\n",
       "      <th>10%</th>\n",
       "      <td>2013.000000</td>\n",
       "      <td>34923.300000</td>\n",
       "      <td>0.583000</td>\n",
       "      <td>0.640000</td>\n",
       "      <td>32938.579000</td>\n",
       "      <td>0.673000</td>\n",
       "      <td>8.181000</td>\n",
       "      <td>12.000000</td>\n",
       "      <td>16.000000</td>\n",
       "      <td>0.650000</td>\n",
       "      <td>15.000000</td>\n",
       "      <td>0.813000</td>\n",
       "      <td>0.110000</td>\n",
       "      <td>121.300000</td>\n",
       "    </tr>\n",
       "    <tr>\n",
       "      <th>50%</th>\n",
       "      <td>2014.000000</td>\n",
       "      <td>48750.000000</td>\n",
       "      <td>0.820000</td>\n",
       "      <td>0.850000</td>\n",
       "      <td>38826.440000</td>\n",
       "      <td>0.790000</td>\n",
       "      <td>14.435000</td>\n",
       "      <td>32.000000</td>\n",
       "      <td>43.000000</td>\n",
       "      <td>0.750000</td>\n",
       "      <td>41.000000</td>\n",
       "      <td>0.950000</td>\n",
       "      <td>0.260000</td>\n",
       "      <td>585.500000</td>\n",
       "    </tr>\n",
       "    <tr>\n",
       "      <th>90%</th>\n",
       "      <td>2015.000000</td>\n",
       "      <td>69763.100000</td>\n",
       "      <td>1.180000</td>\n",
       "      <td>1.000000</td>\n",
       "      <td>48762.088000</td>\n",
       "      <td>0.990000</td>\n",
       "      <td>21.889000</td>\n",
       "      <td>571.800000</td>\n",
       "      <td>741.600000</td>\n",
       "      <td>0.820000</td>\n",
       "      <td>635.100000</td>\n",
       "      <td>1.000000</td>\n",
       "      <td>0.707000</td>\n",
       "      <td>14266.900000</td>\n",
       "    </tr>\n",
       "    <tr>\n",
       "      <th>max</th>\n",
       "      <td>2015.000000</td>\n",
       "      <td>108692.000000</td>\n",
       "      <td>1.850000</td>\n",
       "      <td>1.000000</td>\n",
       "      <td>65999.660000</td>\n",
       "      <td>1.350000</td>\n",
       "      <td>1635.340000</td>\n",
       "      <td>4277.000000</td>\n",
       "      <td>5711.000000</td>\n",
       "      <td>1.000000</td>\n",
       "      <td>4729.000000</td>\n",
       "      <td>1.000000</td>\n",
       "      <td>0.950000</td>\n",
       "      <td>88839.000000</td>\n",
       "    </tr>\n",
       "  </tbody>\n",
       "</table>\n",
       "</div>"
      ],
      "text/plain": [
       "              Year            MHI       MHItS          GR           MTS  \\\n",
       "count   534.000000     534.000000  534.000000  534.000000    534.000000   \n",
       "mean   2014.000000   51103.346442    0.858858    0.822678  40038.071985   \n",
       "std       0.817262   14271.270922    0.239973    0.162112   6840.826751   \n",
       "min    2013.000000   22304.000000    0.380000    0.000000  18103.610000   \n",
       "10%    2013.000000   34923.300000    0.583000    0.640000  32938.579000   \n",
       "50%    2014.000000   48750.000000    0.820000    0.850000  38826.440000   \n",
       "90%    2015.000000   69763.100000    1.180000    1.000000  48762.088000   \n",
       "max    2015.000000  108692.000000    1.850000    1.000000  65999.660000   \n",
       "\n",
       "            MTStS        SToTR         FemT         TotT       FtoTR  \\\n",
       "count  534.000000   534.000000   534.000000   534.000000  534.000000   \n",
       "mean     0.816966    41.106742   218.814607   288.629213    0.744944   \n",
       "std      0.139297   165.291235   557.783904   736.222808    0.073305   \n",
       "min      0.370000     2.990000     3.000000     3.000000    0.440000   \n",
       "10%      0.673000     8.181000    12.000000    16.000000    0.650000   \n",
       "50%      0.790000    14.435000    32.000000    43.000000    0.750000   \n",
       "90%      0.990000    21.889000   571.800000   741.600000    0.820000   \n",
       "max      1.350000  1635.340000  4277.000000  5711.000000    1.000000   \n",
       "\n",
       "              WhiT       PctWT       PctMS          NumS  \n",
       "count   534.000000  534.000000  534.000000    534.000000  \n",
       "mean    256.011236    0.917210    0.326742   4846.614232  \n",
       "std     638.164309    0.113089    0.221190  12709.425752  \n",
       "min       3.000000    0.140000    0.000000     10.000000  \n",
       "10%      15.000000    0.813000    0.110000    121.300000  \n",
       "50%      41.000000    0.950000    0.260000    585.500000  \n",
       "90%     635.100000    1.000000    0.707000  14266.900000  \n",
       "max    4729.000000    1.000000    0.950000  88839.000000  "
      ]
     },
     "execution_count": 15,
     "metadata": {},
     "output_type": "execute_result"
    }
   ],
   "source": [
    "School_data.describe(percentiles=[.1,.9])"
   ]
  },
  {
   "cell_type": "code",
   "execution_count": 16,
   "metadata": {},
   "outputs": [
    {
     "data": {
      "text/plain": [
       "District    False\n",
       "Year        False\n",
       "MHI         False\n",
       "MHItS       False\n",
       "GR          False\n",
       "MTS         False\n",
       "MTStS       False\n",
       "SToTR       False\n",
       "FemT        False\n",
       "TotT        False\n",
       "FtoTR       False\n",
       "WhiT        False\n",
       "PctWT       False\n",
       "PctMS       False\n",
       "NumS        False\n",
       "dtype: bool"
      ]
     },
     "execution_count": 16,
     "metadata": {},
     "output_type": "execute_result"
    }
   ],
   "source": [
    "School_data.isnull().any()"
   ]
  },
  {
   "cell_type": "markdown",
   "metadata": {},
   "source": [
    "There do not appear to be any missing datapoints"
   ]
  },
  {
   "cell_type": "code",
   "execution_count": 17,
   "metadata": {},
   "outputs": [
    {
     "data": {
      "text/html": [
       "<div>\n",
       "<style>\n",
       "    .dataframe thead tr:only-child th {\n",
       "        text-align: right;\n",
       "    }\n",
       "\n",
       "    .dataframe thead th {\n",
       "        text-align: left;\n",
       "    }\n",
       "\n",
       "    .dataframe tbody tr th {\n",
       "        vertical-align: top;\n",
       "    }\n",
       "</style>\n",
       "<table border=\"1\" class=\"dataframe\">\n",
       "  <thead>\n",
       "    <tr style=\"text-align: right;\">\n",
       "      <th></th>\n",
       "      <th>Year</th>\n",
       "      <th>MHI</th>\n",
       "      <th>MHItS</th>\n",
       "      <th>GR</th>\n",
       "      <th>MTS</th>\n",
       "      <th>MTStS</th>\n",
       "      <th>SToTR</th>\n",
       "      <th>FemT</th>\n",
       "      <th>TotT</th>\n",
       "      <th>FtoTR</th>\n",
       "      <th>WhiT</th>\n",
       "      <th>PctWT</th>\n",
       "      <th>PctMS</th>\n",
       "      <th>NumS</th>\n",
       "    </tr>\n",
       "  </thead>\n",
       "  <tbody>\n",
       "    <tr>\n",
       "      <th>0.25</th>\n",
       "      <td>2013.0</td>\n",
       "      <td>41161.500</td>\n",
       "      <td>0.69</td>\n",
       "      <td>0.770</td>\n",
       "      <td>35724.29750</td>\n",
       "      <td>0.73</td>\n",
       "      <td>11.0325</td>\n",
       "      <td>16.000</td>\n",
       "      <td>22.0</td>\n",
       "      <td>0.71000</td>\n",
       "      <td>21.000</td>\n",
       "      <td>0.89000</td>\n",
       "      <td>0.16</td>\n",
       "      <td>217.250</td>\n",
       "    </tr>\n",
       "    <tr>\n",
       "      <th>0.75</th>\n",
       "      <td>2015.0</td>\n",
       "      <td>58739.250</td>\n",
       "      <td>0.99</td>\n",
       "      <td>0.920</td>\n",
       "      <td>44377.00000</td>\n",
       "      <td>0.91</td>\n",
       "      <td>17.5375</td>\n",
       "      <td>115.250</td>\n",
       "      <td>145.0</td>\n",
       "      <td>0.78750</td>\n",
       "      <td>140.750</td>\n",
       "      <td>0.99750</td>\n",
       "      <td>0.46</td>\n",
       "      <td>2314.500</td>\n",
       "    </tr>\n",
       "    <tr>\n",
       "      <th>iqr</th>\n",
       "      <td>2.0</td>\n",
       "      <td>17577.750</td>\n",
       "      <td>0.30</td>\n",
       "      <td>0.150</td>\n",
       "      <td>8652.70250</td>\n",
       "      <td>0.18</td>\n",
       "      <td>6.5050</td>\n",
       "      <td>99.250</td>\n",
       "      <td>123.0</td>\n",
       "      <td>0.07750</td>\n",
       "      <td>119.750</td>\n",
       "      <td>0.10750</td>\n",
       "      <td>0.30</td>\n",
       "      <td>2097.250</td>\n",
       "    </tr>\n",
       "    <tr>\n",
       "      <th>whisker_length</th>\n",
       "      <td>3.0</td>\n",
       "      <td>26366.625</td>\n",
       "      <td>0.45</td>\n",
       "      <td>0.225</td>\n",
       "      <td>12979.05375</td>\n",
       "      <td>0.27</td>\n",
       "      <td>9.7575</td>\n",
       "      <td>148.875</td>\n",
       "      <td>184.5</td>\n",
       "      <td>0.11625</td>\n",
       "      <td>179.625</td>\n",
       "      <td>0.16125</td>\n",
       "      <td>0.45</td>\n",
       "      <td>3145.875</td>\n",
       "    </tr>\n",
       "    <tr>\n",
       "      <th>max_whisker</th>\n",
       "      <td>2018.0</td>\n",
       "      <td>85105.875</td>\n",
       "      <td>1.44</td>\n",
       "      <td>1.145</td>\n",
       "      <td>57356.05375</td>\n",
       "      <td>1.18</td>\n",
       "      <td>27.2950</td>\n",
       "      <td>264.125</td>\n",
       "      <td>329.5</td>\n",
       "      <td>0.90375</td>\n",
       "      <td>320.375</td>\n",
       "      <td>1.15875</td>\n",
       "      <td>0.91</td>\n",
       "      <td>5460.375</td>\n",
       "    </tr>\n",
       "    <tr>\n",
       "      <th>max</th>\n",
       "      <td>2015.0</td>\n",
       "      <td>108692.000</td>\n",
       "      <td>1.85</td>\n",
       "      <td>1.000</td>\n",
       "      <td>65999.66000</td>\n",
       "      <td>1.35</td>\n",
       "      <td>1635.3400</td>\n",
       "      <td>4277.000</td>\n",
       "      <td>5711.0</td>\n",
       "      <td>1.00000</td>\n",
       "      <td>4729.000</td>\n",
       "      <td>1.00000</td>\n",
       "      <td>0.95</td>\n",
       "      <td>88839.000</td>\n",
       "    </tr>\n",
       "    <tr>\n",
       "      <th>min_whisker</th>\n",
       "      <td>2010.0</td>\n",
       "      <td>14794.875</td>\n",
       "      <td>0.24</td>\n",
       "      <td>0.545</td>\n",
       "      <td>22745.24375</td>\n",
       "      <td>0.46</td>\n",
       "      <td>1.2750</td>\n",
       "      <td>-132.875</td>\n",
       "      <td>-162.5</td>\n",
       "      <td>0.59375</td>\n",
       "      <td>-158.625</td>\n",
       "      <td>0.72875</td>\n",
       "      <td>-0.29</td>\n",
       "      <td>-2928.625</td>\n",
       "    </tr>\n",
       "    <tr>\n",
       "      <th>min</th>\n",
       "      <td>2013.0</td>\n",
       "      <td>22304.000</td>\n",
       "      <td>0.38</td>\n",
       "      <td>0.000</td>\n",
       "      <td>18103.61000</td>\n",
       "      <td>0.37</td>\n",
       "      <td>2.9900</td>\n",
       "      <td>3.000</td>\n",
       "      <td>3.0</td>\n",
       "      <td>0.44000</td>\n",
       "      <td>3.000</td>\n",
       "      <td>0.14000</td>\n",
       "      <td>0.00</td>\n",
       "      <td>10.000</td>\n",
       "    </tr>\n",
       "  </tbody>\n",
       "</table>\n",
       "</div>"
      ],
      "text/plain": [
       "                  Year         MHI  MHItS     GR          MTS  MTStS  \\\n",
       "0.25            2013.0   41161.500   0.69  0.770  35724.29750   0.73   \n",
       "0.75            2015.0   58739.250   0.99  0.920  44377.00000   0.91   \n",
       "iqr                2.0   17577.750   0.30  0.150   8652.70250   0.18   \n",
       "whisker_length     3.0   26366.625   0.45  0.225  12979.05375   0.27   \n",
       "max_whisker     2018.0   85105.875   1.44  1.145  57356.05375   1.18   \n",
       "max             2015.0  108692.000   1.85  1.000  65999.66000   1.35   \n",
       "min_whisker     2010.0   14794.875   0.24  0.545  22745.24375   0.46   \n",
       "min             2013.0   22304.000   0.38  0.000  18103.61000   0.37   \n",
       "\n",
       "                    SToTR      FemT    TotT    FtoTR      WhiT    PctWT  \\\n",
       "0.25              11.0325    16.000    22.0  0.71000    21.000  0.89000   \n",
       "0.75              17.5375   115.250   145.0  0.78750   140.750  0.99750   \n",
       "iqr                6.5050    99.250   123.0  0.07750   119.750  0.10750   \n",
       "whisker_length     9.7575   148.875   184.5  0.11625   179.625  0.16125   \n",
       "max_whisker       27.2950   264.125   329.5  0.90375   320.375  1.15875   \n",
       "max             1635.3400  4277.000  5711.0  1.00000  4729.000  1.00000   \n",
       "min_whisker        1.2750  -132.875  -162.5  0.59375  -158.625  0.72875   \n",
       "min                2.9900     3.000     3.0  0.44000     3.000  0.14000   \n",
       "\n",
       "                PctMS       NumS  \n",
       "0.25             0.16    217.250  \n",
       "0.75             0.46   2314.500  \n",
       "iqr              0.30   2097.250  \n",
       "whisker_length   0.45   3145.875  \n",
       "max_whisker      0.91   5460.375  \n",
       "max              0.95  88839.000  \n",
       "min_whisker     -0.29  -2928.625  \n",
       "min              0.00     10.000  "
      ]
     },
     "execution_count": 17,
     "metadata": {},
     "output_type": "execute_result"
    }
   ],
   "source": [
    "quantile_data= School_data.quantile([.25,.75])\n",
    "quantile_data.loc['iqr']= quantile_data.loc[.75]-quantile_data.loc[.25]\n",
    "quantile_data.loc['whisker_length'] = 1.5 * quantile_data.loc['iqr']\n",
    "quantile_data.loc['max_whisker'] = quantile_data.loc['whisker_length'] + quantile_data.loc[0.75]\n",
    "quantile_data.loc['max'] = School_data.max()\n",
    "quantile_data.loc['min_whisker'] = quantile_data.loc[0.25] - quantile_data.loc['whisker_length']\n",
    "quantile_data.loc['min'] = School_data.min()\n",
    "quantile_data"
   ]
  },
  {
   "cell_type": "markdown",
   "metadata": {},
   "source": [
    "There do appear to be some outliers  \n",
    "Above Max Whisker:  \n",
    " - Median Household Income\n",
    " - Mean Teacher Salary\n",
    " - Student To Teacher Ratio\n",
    " - Female Teachers\n",
    " - Total Teachers\n",
    " - White Teachers\n",
    " - Number of Students\n",
    " \n",
    "Many of these datapoints seem to be things associated with a higher populated area"
   ]
  },
  {
   "cell_type": "code",
   "execution_count": 18,
   "metadata": {},
   "outputs": [
    {
     "data": {
      "text/html": [
       "<div>\n",
       "<style>\n",
       "    .dataframe thead tr:only-child th {\n",
       "        text-align: right;\n",
       "    }\n",
       "\n",
       "    .dataframe thead th {\n",
       "        text-align: left;\n",
       "    }\n",
       "\n",
       "    .dataframe tbody tr th {\n",
       "        vertical-align: top;\n",
       "    }\n",
       "</style>\n",
       "<table border=\"1\" class=\"dataframe\">\n",
       "  <thead>\n",
       "    <tr style=\"text-align: right;\">\n",
       "      <th></th>\n",
       "      <th>MHI</th>\n",
       "      <th>MTS</th>\n",
       "      <th>SToTR</th>\n",
       "      <th>FemT</th>\n",
       "      <th>TotT</th>\n",
       "      <th>WhiT</th>\n",
       "      <th>NumS</th>\n",
       "    </tr>\n",
       "  </thead>\n",
       "  <tbody>\n",
       "    <tr>\n",
       "      <th>MHI</th>\n",
       "      <td>1.000000</td>\n",
       "      <td>0.465520</td>\n",
       "      <td>0.031363</td>\n",
       "      <td>0.324588</td>\n",
       "      <td>0.318543</td>\n",
       "      <td>0.342753</td>\n",
       "      <td>0.331829</td>\n",
       "    </tr>\n",
       "    <tr>\n",
       "      <th>MTS</th>\n",
       "      <td>0.465520</td>\n",
       "      <td>1.000000</td>\n",
       "      <td>0.021974</td>\n",
       "      <td>0.529479</td>\n",
       "      <td>0.527590</td>\n",
       "      <td>0.540093</td>\n",
       "      <td>0.533540</td>\n",
       "    </tr>\n",
       "    <tr>\n",
       "      <th>SToTR</th>\n",
       "      <td>0.031363</td>\n",
       "      <td>0.021974</td>\n",
       "      <td>1.000000</td>\n",
       "      <td>-0.030514</td>\n",
       "      <td>-0.030742</td>\n",
       "      <td>-0.030451</td>\n",
       "      <td>-0.031770</td>\n",
       "    </tr>\n",
       "    <tr>\n",
       "      <th>FemT</th>\n",
       "      <td>0.324588</td>\n",
       "      <td>0.529479</td>\n",
       "      <td>-0.030514</td>\n",
       "      <td>1.000000</td>\n",
       "      <td>0.999759</td>\n",
       "      <td>0.996863</td>\n",
       "      <td>0.997055</td>\n",
       "    </tr>\n",
       "    <tr>\n",
       "      <th>TotT</th>\n",
       "      <td>0.318543</td>\n",
       "      <td>0.527590</td>\n",
       "      <td>-0.030742</td>\n",
       "      <td>0.999759</td>\n",
       "      <td>1.000000</td>\n",
       "      <td>0.996357</td>\n",
       "      <td>0.996054</td>\n",
       "    </tr>\n",
       "    <tr>\n",
       "      <th>WhiT</th>\n",
       "      <td>0.342753</td>\n",
       "      <td>0.540093</td>\n",
       "      <td>-0.030451</td>\n",
       "      <td>0.996863</td>\n",
       "      <td>0.996357</td>\n",
       "      <td>1.000000</td>\n",
       "      <td>0.996429</td>\n",
       "    </tr>\n",
       "    <tr>\n",
       "      <th>NumS</th>\n",
       "      <td>0.331829</td>\n",
       "      <td>0.533540</td>\n",
       "      <td>-0.031770</td>\n",
       "      <td>0.997055</td>\n",
       "      <td>0.996054</td>\n",
       "      <td>0.996429</td>\n",
       "      <td>1.000000</td>\n",
       "    </tr>\n",
       "  </tbody>\n",
       "</table>\n",
       "</div>"
      ],
      "text/plain": [
       "            MHI       MTS     SToTR      FemT      TotT      WhiT      NumS\n",
       "MHI    1.000000  0.465520  0.031363  0.324588  0.318543  0.342753  0.331829\n",
       "MTS    0.465520  1.000000  0.021974  0.529479  0.527590  0.540093  0.533540\n",
       "SToTR  0.031363  0.021974  1.000000 -0.030514 -0.030742 -0.030451 -0.031770\n",
       "FemT   0.324588  0.529479 -0.030514  1.000000  0.999759  0.996863  0.997055\n",
       "TotT   0.318543  0.527590 -0.030742  0.999759  1.000000  0.996357  0.996054\n",
       "WhiT   0.342753  0.540093 -0.030451  0.996863  0.996357  1.000000  0.996429\n",
       "NumS   0.331829  0.533540 -0.031770  0.997055  0.996054  0.996429  1.000000"
      ]
     },
     "execution_count": 18,
     "metadata": {},
     "output_type": "execute_result"
    }
   ],
   "source": [
    "population_variables = School_data[['MHI','MTS','SToTR','FemT','TotT','WhiT','NumS']]\n",
    "population_variables.corr()"
   ]
  },
  {
   "cell_type": "code",
   "execution_count": null,
   "metadata": {
    "collapsed": true
   },
   "outputs": [],
   "source": []
  },
  {
   "cell_type": "code",
   "execution_count": null,
   "metadata": {
    "collapsed": true
   },
   "outputs": [],
   "source": []
  }
 ],
 "metadata": {
  "kernelspec": {
   "display_name": "Python 3",
   "language": "python",
   "name": "python3"
  },
  "language_info": {
   "codemirror_mode": {
    "name": "ipython",
    "version": 3
   },
   "file_extension": ".py",
   "mimetype": "text/x-python",
   "name": "python",
   "nbconvert_exporter": "python",
   "pygments_lexer": "ipython3",
   "version": "3.6.1"
  }
 },
 "nbformat": 4,
 "nbformat_minor": 2
}
